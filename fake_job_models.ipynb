{
 "cells": [
  {
   "cell_type": "code",
   "execution_count": 113,
   "id": "42c3ef2e",
   "metadata": {},
   "outputs": [],
   "source": [
    "import pandas as pd\n",
    "import numpy as np"
   ]
  },
  {
   "cell_type": "code",
   "execution_count": 114,
   "id": "c74c5e9b",
   "metadata": {},
   "outputs": [],
   "source": [
    "#! pip install -U scikit-learn"
   ]
  },
  {
   "cell_type": "code",
   "execution_count": 115,
   "id": "dcfc76d7",
   "metadata": {},
   "outputs": [
    {
     "data": {
      "text/html": [
       "<div>\n",
       "<style scoped>\n",
       "    .dataframe tbody tr th:only-of-type {\n",
       "        vertical-align: middle;\n",
       "    }\n",
       "\n",
       "    .dataframe tbody tr th {\n",
       "        vertical-align: top;\n",
       "    }\n",
       "\n",
       "    .dataframe thead th {\n",
       "        text-align: right;\n",
       "    }\n",
       "</style>\n",
       "<table border=\"1\" class=\"dataframe\">\n",
       "  <thead>\n",
       "    <tr style=\"text-align: right;\">\n",
       "      <th></th>\n",
       "      <th>job_id</th>\n",
       "      <th>title</th>\n",
       "      <th>location</th>\n",
       "      <th>department</th>\n",
       "      <th>salary_range</th>\n",
       "      <th>company_profile</th>\n",
       "      <th>description</th>\n",
       "      <th>requirements</th>\n",
       "      <th>benefits</th>\n",
       "      <th>telecommuting</th>\n",
       "      <th>has_company_logo</th>\n",
       "      <th>has_questions</th>\n",
       "      <th>employment_type</th>\n",
       "      <th>required_experience</th>\n",
       "      <th>required_education</th>\n",
       "      <th>industry</th>\n",
       "      <th>function</th>\n",
       "      <th>fraudulent</th>\n",
       "    </tr>\n",
       "  </thead>\n",
       "  <tbody>\n",
       "    <tr>\n",
       "      <th>0</th>\n",
       "      <td>1</td>\n",
       "      <td>Marketing Intern</td>\n",
       "      <td>US, NY, New York</td>\n",
       "      <td>Marketing</td>\n",
       "      <td>NaN</td>\n",
       "      <td>We're Food52, and we've created a groundbreaki...</td>\n",
       "      <td>Food52, a fast-growing, James Beard Award-winn...</td>\n",
       "      <td>Experience with content management systems a m...</td>\n",
       "      <td>NaN</td>\n",
       "      <td>0</td>\n",
       "      <td>1</td>\n",
       "      <td>0</td>\n",
       "      <td>Other</td>\n",
       "      <td>Internship</td>\n",
       "      <td>NaN</td>\n",
       "      <td>NaN</td>\n",
       "      <td>Marketing</td>\n",
       "      <td>0</td>\n",
       "    </tr>\n",
       "    <tr>\n",
       "      <th>1</th>\n",
       "      <td>2</td>\n",
       "      <td>Customer Service - Cloud Video Production</td>\n",
       "      <td>NZ, , Auckland</td>\n",
       "      <td>Success</td>\n",
       "      <td>NaN</td>\n",
       "      <td>90 Seconds, the worlds Cloud Video Production ...</td>\n",
       "      <td>Organised - Focused - Vibrant - Awesome!Do you...</td>\n",
       "      <td>What we expect from you:Your key responsibilit...</td>\n",
       "      <td>What you will get from usThrough being part of...</td>\n",
       "      <td>0</td>\n",
       "      <td>1</td>\n",
       "      <td>0</td>\n",
       "      <td>Full-time</td>\n",
       "      <td>Not Applicable</td>\n",
       "      <td>NaN</td>\n",
       "      <td>Marketing and Advertising</td>\n",
       "      <td>Customer Service</td>\n",
       "      <td>0</td>\n",
       "    </tr>\n",
       "    <tr>\n",
       "      <th>2</th>\n",
       "      <td>3</td>\n",
       "      <td>Commissioning Machinery Assistant (CMA)</td>\n",
       "      <td>US, IA, Wever</td>\n",
       "      <td>NaN</td>\n",
       "      <td>NaN</td>\n",
       "      <td>Valor Services provides Workforce Solutions th...</td>\n",
       "      <td>Our client, located in Houston, is actively se...</td>\n",
       "      <td>Implement pre-commissioning and commissioning ...</td>\n",
       "      <td>NaN</td>\n",
       "      <td>0</td>\n",
       "      <td>1</td>\n",
       "      <td>0</td>\n",
       "      <td>NaN</td>\n",
       "      <td>NaN</td>\n",
       "      <td>NaN</td>\n",
       "      <td>NaN</td>\n",
       "      <td>NaN</td>\n",
       "      <td>0</td>\n",
       "    </tr>\n",
       "    <tr>\n",
       "      <th>3</th>\n",
       "      <td>4</td>\n",
       "      <td>Account Executive - Washington DC</td>\n",
       "      <td>US, DC, Washington</td>\n",
       "      <td>Sales</td>\n",
       "      <td>NaN</td>\n",
       "      <td>Our passion for improving quality of life thro...</td>\n",
       "      <td>THE COMPANY: ESRI – Environmental Systems Rese...</td>\n",
       "      <td>EDUCATION: Bachelor’s or Master’s in GIS, busi...</td>\n",
       "      <td>Our culture is anything but corporate—we have ...</td>\n",
       "      <td>0</td>\n",
       "      <td>1</td>\n",
       "      <td>0</td>\n",
       "      <td>Full-time</td>\n",
       "      <td>Mid-Senior level</td>\n",
       "      <td>Bachelor's Degree</td>\n",
       "      <td>Computer Software</td>\n",
       "      <td>Sales</td>\n",
       "      <td>0</td>\n",
       "    </tr>\n",
       "    <tr>\n",
       "      <th>4</th>\n",
       "      <td>5</td>\n",
       "      <td>Bill Review Manager</td>\n",
       "      <td>US, FL, Fort Worth</td>\n",
       "      <td>NaN</td>\n",
       "      <td>NaN</td>\n",
       "      <td>SpotSource Solutions LLC is a Global Human Cap...</td>\n",
       "      <td>JOB TITLE: Itemization Review ManagerLOCATION:...</td>\n",
       "      <td>QUALIFICATIONS:RN license in the State of Texa...</td>\n",
       "      <td>Full Benefits Offered</td>\n",
       "      <td>0</td>\n",
       "      <td>1</td>\n",
       "      <td>1</td>\n",
       "      <td>Full-time</td>\n",
       "      <td>Mid-Senior level</td>\n",
       "      <td>Bachelor's Degree</td>\n",
       "      <td>Hospital &amp; Health Care</td>\n",
       "      <td>Health Care Provider</td>\n",
       "      <td>0</td>\n",
       "    </tr>\n",
       "    <tr>\n",
       "      <th>5</th>\n",
       "      <td>6</td>\n",
       "      <td>Accounting Clerk</td>\n",
       "      <td>US, MD,</td>\n",
       "      <td>NaN</td>\n",
       "      <td>NaN</td>\n",
       "      <td>NaN</td>\n",
       "      <td>Job OverviewApex is an environmental consultin...</td>\n",
       "      <td>NaN</td>\n",
       "      <td>NaN</td>\n",
       "      <td>0</td>\n",
       "      <td>0</td>\n",
       "      <td>0</td>\n",
       "      <td>NaN</td>\n",
       "      <td>NaN</td>\n",
       "      <td>NaN</td>\n",
       "      <td>NaN</td>\n",
       "      <td>NaN</td>\n",
       "      <td>0</td>\n",
       "    </tr>\n",
       "    <tr>\n",
       "      <th>6</th>\n",
       "      <td>7</td>\n",
       "      <td>Head of Content (m/f)</td>\n",
       "      <td>DE, BE, Berlin</td>\n",
       "      <td>ANDROIDPIT</td>\n",
       "      <td>20000-28000</td>\n",
       "      <td>Founded in 2009, the Fonpit AG rose with its i...</td>\n",
       "      <td>Your Responsibilities: Manage the English-spea...</td>\n",
       "      <td>Your Know-How:                                ...</td>\n",
       "      <td>Your Benefits: Being part of a fast-growing co...</td>\n",
       "      <td>0</td>\n",
       "      <td>1</td>\n",
       "      <td>1</td>\n",
       "      <td>Full-time</td>\n",
       "      <td>Mid-Senior level</td>\n",
       "      <td>Master's Degree</td>\n",
       "      <td>Online Media</td>\n",
       "      <td>Management</td>\n",
       "      <td>0</td>\n",
       "    </tr>\n",
       "    <tr>\n",
       "      <th>7</th>\n",
       "      <td>8</td>\n",
       "      <td>Lead Guest Service Specialist</td>\n",
       "      <td>US, CA, San Francisco</td>\n",
       "      <td>NaN</td>\n",
       "      <td>NaN</td>\n",
       "      <td>Airenvy’s mission is to provide lucrative yet ...</td>\n",
       "      <td>Who is Airenvy?Hey there! We are seasoned entr...</td>\n",
       "      <td>Experience with CRM software, live chat, and p...</td>\n",
       "      <td>Competitive Pay. You'll be able to eat steak e...</td>\n",
       "      <td>0</td>\n",
       "      <td>1</td>\n",
       "      <td>1</td>\n",
       "      <td>NaN</td>\n",
       "      <td>NaN</td>\n",
       "      <td>NaN</td>\n",
       "      <td>NaN</td>\n",
       "      <td>NaN</td>\n",
       "      <td>0</td>\n",
       "    </tr>\n",
       "    <tr>\n",
       "      <th>8</th>\n",
       "      <td>9</td>\n",
       "      <td>HP BSM SME</td>\n",
       "      <td>US, FL, Pensacola</td>\n",
       "      <td>NaN</td>\n",
       "      <td>NaN</td>\n",
       "      <td>Solutions3 is a woman-owned small business who...</td>\n",
       "      <td>Implementation/Configuration/Testing/Training ...</td>\n",
       "      <td>MUST BE A US CITIZEN.An active TS/SCI clearanc...</td>\n",
       "      <td>NaN</td>\n",
       "      <td>0</td>\n",
       "      <td>1</td>\n",
       "      <td>1</td>\n",
       "      <td>Full-time</td>\n",
       "      <td>Associate</td>\n",
       "      <td>NaN</td>\n",
       "      <td>Information Technology and Services</td>\n",
       "      <td>NaN</td>\n",
       "      <td>0</td>\n",
       "    </tr>\n",
       "    <tr>\n",
       "      <th>9</th>\n",
       "      <td>10</td>\n",
       "      <td>Customer Service Associate - Part Time</td>\n",
       "      <td>US, AZ, Phoenix</td>\n",
       "      <td>NaN</td>\n",
       "      <td>NaN</td>\n",
       "      <td>Novitex Enterprise Solutions, formerly Pitney ...</td>\n",
       "      <td>The Customer Service Associate will be based i...</td>\n",
       "      <td>Minimum Requirements:Minimum of 6 months custo...</td>\n",
       "      <td>NaN</td>\n",
       "      <td>0</td>\n",
       "      <td>1</td>\n",
       "      <td>0</td>\n",
       "      <td>Part-time</td>\n",
       "      <td>Entry level</td>\n",
       "      <td>High School or equivalent</td>\n",
       "      <td>Financial Services</td>\n",
       "      <td>Customer Service</td>\n",
       "      <td>0</td>\n",
       "    </tr>\n",
       "  </tbody>\n",
       "</table>\n",
       "</div>"
      ],
      "text/plain": [
       "   job_id                                      title               location  \\\n",
       "0       1                           Marketing Intern       US, NY, New York   \n",
       "1       2  Customer Service - Cloud Video Production         NZ, , Auckland   \n",
       "2       3    Commissioning Machinery Assistant (CMA)          US, IA, Wever   \n",
       "3       4          Account Executive - Washington DC     US, DC, Washington   \n",
       "4       5                        Bill Review Manager     US, FL, Fort Worth   \n",
       "5       6                           Accounting Clerk               US, MD,    \n",
       "6       7                      Head of Content (m/f)         DE, BE, Berlin   \n",
       "7       8           Lead Guest Service Specialist     US, CA, San Francisco   \n",
       "8       9                                 HP BSM SME      US, FL, Pensacola   \n",
       "9      10    Customer Service Associate - Part Time         US, AZ, Phoenix   \n",
       "\n",
       "   department salary_range                                    company_profile  \\\n",
       "0   Marketing          NaN  We're Food52, and we've created a groundbreaki...   \n",
       "1     Success          NaN  90 Seconds, the worlds Cloud Video Production ...   \n",
       "2         NaN          NaN  Valor Services provides Workforce Solutions th...   \n",
       "3       Sales          NaN  Our passion for improving quality of life thro...   \n",
       "4         NaN          NaN  SpotSource Solutions LLC is a Global Human Cap...   \n",
       "5         NaN          NaN                                                NaN   \n",
       "6  ANDROIDPIT  20000-28000  Founded in 2009, the Fonpit AG rose with its i...   \n",
       "7         NaN          NaN  Airenvy’s mission is to provide lucrative yet ...   \n",
       "8         NaN          NaN  Solutions3 is a woman-owned small business who...   \n",
       "9         NaN          NaN  Novitex Enterprise Solutions, formerly Pitney ...   \n",
       "\n",
       "                                         description  \\\n",
       "0  Food52, a fast-growing, James Beard Award-winn...   \n",
       "1  Organised - Focused - Vibrant - Awesome!Do you...   \n",
       "2  Our client, located in Houston, is actively se...   \n",
       "3  THE COMPANY: ESRI – Environmental Systems Rese...   \n",
       "4  JOB TITLE: Itemization Review ManagerLOCATION:...   \n",
       "5  Job OverviewApex is an environmental consultin...   \n",
       "6  Your Responsibilities: Manage the English-spea...   \n",
       "7  Who is Airenvy?Hey there! We are seasoned entr...   \n",
       "8  Implementation/Configuration/Testing/Training ...   \n",
       "9  The Customer Service Associate will be based i...   \n",
       "\n",
       "                                        requirements  \\\n",
       "0  Experience with content management systems a m...   \n",
       "1  What we expect from you:Your key responsibilit...   \n",
       "2  Implement pre-commissioning and commissioning ...   \n",
       "3  EDUCATION: Bachelor’s or Master’s in GIS, busi...   \n",
       "4  QUALIFICATIONS:RN license in the State of Texa...   \n",
       "5                                                NaN   \n",
       "6  Your Know-How:                                ...   \n",
       "7  Experience with CRM software, live chat, and p...   \n",
       "8  MUST BE A US CITIZEN.An active TS/SCI clearanc...   \n",
       "9  Minimum Requirements:Minimum of 6 months custo...   \n",
       "\n",
       "                                            benefits  telecommuting  \\\n",
       "0                                                NaN              0   \n",
       "1  What you will get from usThrough being part of...              0   \n",
       "2                                                NaN              0   \n",
       "3  Our culture is anything but corporate—we have ...              0   \n",
       "4                              Full Benefits Offered              0   \n",
       "5                                                NaN              0   \n",
       "6  Your Benefits: Being part of a fast-growing co...              0   \n",
       "7  Competitive Pay. You'll be able to eat steak e...              0   \n",
       "8                                                NaN              0   \n",
       "9                                                NaN              0   \n",
       "\n",
       "   has_company_logo  has_questions employment_type required_experience  \\\n",
       "0                 1              0           Other          Internship   \n",
       "1                 1              0       Full-time      Not Applicable   \n",
       "2                 1              0             NaN                 NaN   \n",
       "3                 1              0       Full-time    Mid-Senior level   \n",
       "4                 1              1       Full-time    Mid-Senior level   \n",
       "5                 0              0             NaN                 NaN   \n",
       "6                 1              1       Full-time    Mid-Senior level   \n",
       "7                 1              1             NaN                 NaN   \n",
       "8                 1              1       Full-time           Associate   \n",
       "9                 1              0       Part-time         Entry level   \n",
       "\n",
       "          required_education                             industry  \\\n",
       "0                        NaN                                  NaN   \n",
       "1                        NaN            Marketing and Advertising   \n",
       "2                        NaN                                  NaN   \n",
       "3          Bachelor's Degree                    Computer Software   \n",
       "4          Bachelor's Degree               Hospital & Health Care   \n",
       "5                        NaN                                  NaN   \n",
       "6            Master's Degree                         Online Media   \n",
       "7                        NaN                                  NaN   \n",
       "8                        NaN  Information Technology and Services   \n",
       "9  High School or equivalent                   Financial Services   \n",
       "\n",
       "               function  fraudulent  \n",
       "0             Marketing           0  \n",
       "1      Customer Service           0  \n",
       "2                   NaN           0  \n",
       "3                 Sales           0  \n",
       "4  Health Care Provider           0  \n",
       "5                   NaN           0  \n",
       "6            Management           0  \n",
       "7                   NaN           0  \n",
       "8                   NaN           0  \n",
       "9      Customer Service           0  "
      ]
     },
     "execution_count": 115,
     "metadata": {},
     "output_type": "execute_result"
    }
   ],
   "source": [
    "fake = pd.read_csv('fake_job_postings.csv')\n",
    "fake.head(10)"
   ]
  },
  {
   "cell_type": "code",
   "execution_count": 116,
   "id": "ee3c95dc",
   "metadata": {},
   "outputs": [
    {
     "data": {
      "text/html": [
       "<div>\n",
       "<style scoped>\n",
       "    .dataframe tbody tr th:only-of-type {\n",
       "        vertical-align: middle;\n",
       "    }\n",
       "\n",
       "    .dataframe tbody tr th {\n",
       "        vertical-align: top;\n",
       "    }\n",
       "\n",
       "    .dataframe thead th {\n",
       "        text-align: right;\n",
       "    }\n",
       "</style>\n",
       "<table border=\"1\" class=\"dataframe\">\n",
       "  <thead>\n",
       "    <tr style=\"text-align: right;\">\n",
       "      <th></th>\n",
       "      <th>job_id</th>\n",
       "      <th>title</th>\n",
       "      <th>location</th>\n",
       "      <th>department</th>\n",
       "      <th>salary_range</th>\n",
       "      <th>company_profile</th>\n",
       "      <th>description</th>\n",
       "      <th>requirements</th>\n",
       "      <th>benefits</th>\n",
       "      <th>telecommuting</th>\n",
       "      <th>has_company_logo</th>\n",
       "      <th>has_questions</th>\n",
       "      <th>employment_type</th>\n",
       "      <th>required_experience</th>\n",
       "      <th>required_education</th>\n",
       "      <th>industry</th>\n",
       "      <th>function</th>\n",
       "      <th>fraudulent</th>\n",
       "      <th>job_company_info</th>\n",
       "    </tr>\n",
       "  </thead>\n",
       "  <tbody>\n",
       "    <tr>\n",
       "      <th>0</th>\n",
       "      <td>1</td>\n",
       "      <td>Marketing Intern</td>\n",
       "      <td>US, NY, New York</td>\n",
       "      <td>Marketing</td>\n",
       "      <td>NaN</td>\n",
       "      <td>We're Food52, and we've created a groundbreaki...</td>\n",
       "      <td>Food52, a fast-growing, James Beard Award-winn...</td>\n",
       "      <td>Experience with content management systems a m...</td>\n",
       "      <td>NaN</td>\n",
       "      <td>0</td>\n",
       "      <td>1</td>\n",
       "      <td>0</td>\n",
       "      <td>Other</td>\n",
       "      <td>Internship</td>\n",
       "      <td>NaN</td>\n",
       "      <td>NaN</td>\n",
       "      <td>Marketing</td>\n",
       "      <td>0</td>\n",
       "      <td>NaN</td>\n",
       "    </tr>\n",
       "    <tr>\n",
       "      <th>1</th>\n",
       "      <td>2</td>\n",
       "      <td>Customer Service - Cloud Video Production</td>\n",
       "      <td>NZ, , Auckland</td>\n",
       "      <td>Success</td>\n",
       "      <td>NaN</td>\n",
       "      <td>90 Seconds, the worlds Cloud Video Production ...</td>\n",
       "      <td>Organised - Focused - Vibrant - Awesome!Do you...</td>\n",
       "      <td>What we expect from you:Your key responsibilit...</td>\n",
       "      <td>What you will get from usThrough being part of...</td>\n",
       "      <td>0</td>\n",
       "      <td>1</td>\n",
       "      <td>0</td>\n",
       "      <td>Full-time</td>\n",
       "      <td>Not Applicable</td>\n",
       "      <td>NaN</td>\n",
       "      <td>Marketing and Advertising</td>\n",
       "      <td>Customer Service</td>\n",
       "      <td>0</td>\n",
       "      <td>90 Seconds, the worlds Cloud Video Production ...</td>\n",
       "    </tr>\n",
       "    <tr>\n",
       "      <th>2</th>\n",
       "      <td>3</td>\n",
       "      <td>Commissioning Machinery Assistant (CMA)</td>\n",
       "      <td>US, IA, Wever</td>\n",
       "      <td>NaN</td>\n",
       "      <td>NaN</td>\n",
       "      <td>Valor Services provides Workforce Solutions th...</td>\n",
       "      <td>Our client, located in Houston, is actively se...</td>\n",
       "      <td>Implement pre-commissioning and commissioning ...</td>\n",
       "      <td>NaN</td>\n",
       "      <td>0</td>\n",
       "      <td>1</td>\n",
       "      <td>0</td>\n",
       "      <td>NaN</td>\n",
       "      <td>NaN</td>\n",
       "      <td>NaN</td>\n",
       "      <td>NaN</td>\n",
       "      <td>NaN</td>\n",
       "      <td>0</td>\n",
       "      <td>NaN</td>\n",
       "    </tr>\n",
       "    <tr>\n",
       "      <th>3</th>\n",
       "      <td>4</td>\n",
       "      <td>Account Executive - Washington DC</td>\n",
       "      <td>US, DC, Washington</td>\n",
       "      <td>Sales</td>\n",
       "      <td>NaN</td>\n",
       "      <td>Our passion for improving quality of life thro...</td>\n",
       "      <td>THE COMPANY: ESRI – Environmental Systems Rese...</td>\n",
       "      <td>EDUCATION: Bachelor’s or Master’s in GIS, busi...</td>\n",
       "      <td>Our culture is anything but corporate—we have ...</td>\n",
       "      <td>0</td>\n",
       "      <td>1</td>\n",
       "      <td>0</td>\n",
       "      <td>Full-time</td>\n",
       "      <td>Mid-Senior level</td>\n",
       "      <td>Bachelor's Degree</td>\n",
       "      <td>Computer Software</td>\n",
       "      <td>Sales</td>\n",
       "      <td>0</td>\n",
       "      <td>Our passion for improving quality of life thro...</td>\n",
       "    </tr>\n",
       "    <tr>\n",
       "      <th>4</th>\n",
       "      <td>5</td>\n",
       "      <td>Bill Review Manager</td>\n",
       "      <td>US, FL, Fort Worth</td>\n",
       "      <td>NaN</td>\n",
       "      <td>NaN</td>\n",
       "      <td>SpotSource Solutions LLC is a Global Human Cap...</td>\n",
       "      <td>JOB TITLE: Itemization Review ManagerLOCATION:...</td>\n",
       "      <td>QUALIFICATIONS:RN license in the State of Texa...</td>\n",
       "      <td>Full Benefits Offered</td>\n",
       "      <td>0</td>\n",
       "      <td>1</td>\n",
       "      <td>1</td>\n",
       "      <td>Full-time</td>\n",
       "      <td>Mid-Senior level</td>\n",
       "      <td>Bachelor's Degree</td>\n",
       "      <td>Hospital &amp; Health Care</td>\n",
       "      <td>Health Care Provider</td>\n",
       "      <td>0</td>\n",
       "      <td>SpotSource Solutions LLC is a Global Human Cap...</td>\n",
       "    </tr>\n",
       "  </tbody>\n",
       "</table>\n",
       "</div>"
      ],
      "text/plain": [
       "   job_id                                      title            location  \\\n",
       "0       1                           Marketing Intern    US, NY, New York   \n",
       "1       2  Customer Service - Cloud Video Production      NZ, , Auckland   \n",
       "2       3    Commissioning Machinery Assistant (CMA)       US, IA, Wever   \n",
       "3       4          Account Executive - Washington DC  US, DC, Washington   \n",
       "4       5                        Bill Review Manager  US, FL, Fort Worth   \n",
       "\n",
       "  department salary_range                                    company_profile  \\\n",
       "0  Marketing          NaN  We're Food52, and we've created a groundbreaki...   \n",
       "1    Success          NaN  90 Seconds, the worlds Cloud Video Production ...   \n",
       "2        NaN          NaN  Valor Services provides Workforce Solutions th...   \n",
       "3      Sales          NaN  Our passion for improving quality of life thro...   \n",
       "4        NaN          NaN  SpotSource Solutions LLC is a Global Human Cap...   \n",
       "\n",
       "                                         description  \\\n",
       "0  Food52, a fast-growing, James Beard Award-winn...   \n",
       "1  Organised - Focused - Vibrant - Awesome!Do you...   \n",
       "2  Our client, located in Houston, is actively se...   \n",
       "3  THE COMPANY: ESRI – Environmental Systems Rese...   \n",
       "4  JOB TITLE: Itemization Review ManagerLOCATION:...   \n",
       "\n",
       "                                        requirements  \\\n",
       "0  Experience with content management systems a m...   \n",
       "1  What we expect from you:Your key responsibilit...   \n",
       "2  Implement pre-commissioning and commissioning ...   \n",
       "3  EDUCATION: Bachelor’s or Master’s in GIS, busi...   \n",
       "4  QUALIFICATIONS:RN license in the State of Texa...   \n",
       "\n",
       "                                            benefits  telecommuting  \\\n",
       "0                                                NaN              0   \n",
       "1  What you will get from usThrough being part of...              0   \n",
       "2                                                NaN              0   \n",
       "3  Our culture is anything but corporate—we have ...              0   \n",
       "4                              Full Benefits Offered              0   \n",
       "\n",
       "   has_company_logo  has_questions employment_type required_experience  \\\n",
       "0                 1              0           Other          Internship   \n",
       "1                 1              0       Full-time      Not Applicable   \n",
       "2                 1              0             NaN                 NaN   \n",
       "3                 1              0       Full-time    Mid-Senior level   \n",
       "4                 1              1       Full-time    Mid-Senior level   \n",
       "\n",
       "  required_education                   industry              function  \\\n",
       "0                NaN                        NaN             Marketing   \n",
       "1                NaN  Marketing and Advertising      Customer Service   \n",
       "2                NaN                        NaN                   NaN   \n",
       "3  Bachelor's Degree          Computer Software                 Sales   \n",
       "4  Bachelor's Degree     Hospital & Health Care  Health Care Provider   \n",
       "\n",
       "   fraudulent                                   job_company_info  \n",
       "0           0                                                NaN  \n",
       "1           0  90 Seconds, the worlds Cloud Video Production ...  \n",
       "2           0                                                NaN  \n",
       "3           0  Our passion for improving quality of life thro...  \n",
       "4           0  SpotSource Solutions LLC is a Global Human Cap...  "
      ]
     },
     "execution_count": 116,
     "metadata": {},
     "output_type": "execute_result"
    }
   ],
   "source": [
    "fake['job_company_info'] = fake['company_profile'] + fake['requirements'] + fake['benefits'] + fake['description']+fake['title']\n",
    "\n",
    "fake.head()"
   ]
  },
  {
   "cell_type": "code",
   "execution_count": 117,
   "id": "b31bf131",
   "metadata": {},
   "outputs": [
    {
     "data": {
      "text/html": [
       "<div>\n",
       "<style scoped>\n",
       "    .dataframe tbody tr th:only-of-type {\n",
       "        vertical-align: middle;\n",
       "    }\n",
       "\n",
       "    .dataframe tbody tr th {\n",
       "        vertical-align: top;\n",
       "    }\n",
       "\n",
       "    .dataframe thead th {\n",
       "        text-align: right;\n",
       "    }\n",
       "</style>\n",
       "<table border=\"1\" class=\"dataframe\">\n",
       "  <thead>\n",
       "    <tr style=\"text-align: right;\">\n",
       "      <th></th>\n",
       "      <th>job_id</th>\n",
       "      <th>location</th>\n",
       "      <th>department</th>\n",
       "      <th>salary_range</th>\n",
       "      <th>telecommuting</th>\n",
       "      <th>has_company_logo</th>\n",
       "      <th>has_questions</th>\n",
       "      <th>employment_type</th>\n",
       "      <th>required_experience</th>\n",
       "      <th>required_education</th>\n",
       "      <th>industry</th>\n",
       "      <th>function</th>\n",
       "      <th>fraudulent</th>\n",
       "      <th>job_company_info</th>\n",
       "    </tr>\n",
       "  </thead>\n",
       "  <tbody>\n",
       "    <tr>\n",
       "      <th>0</th>\n",
       "      <td>1</td>\n",
       "      <td>US, NY, New York</td>\n",
       "      <td>Marketing</td>\n",
       "      <td>NaN</td>\n",
       "      <td>0</td>\n",
       "      <td>1</td>\n",
       "      <td>0</td>\n",
       "      <td>Other</td>\n",
       "      <td>Internship</td>\n",
       "      <td>NaN</td>\n",
       "      <td>NaN</td>\n",
       "      <td>Marketing</td>\n",
       "      <td>0</td>\n",
       "      <td>NaN</td>\n",
       "    </tr>\n",
       "    <tr>\n",
       "      <th>1</th>\n",
       "      <td>2</td>\n",
       "      <td>NZ, , Auckland</td>\n",
       "      <td>Success</td>\n",
       "      <td>NaN</td>\n",
       "      <td>0</td>\n",
       "      <td>1</td>\n",
       "      <td>0</td>\n",
       "      <td>Full-time</td>\n",
       "      <td>Not Applicable</td>\n",
       "      <td>NaN</td>\n",
       "      <td>Marketing and Advertising</td>\n",
       "      <td>Customer Service</td>\n",
       "      <td>0</td>\n",
       "      <td>90 Seconds, the worlds Cloud Video Production ...</td>\n",
       "    </tr>\n",
       "    <tr>\n",
       "      <th>2</th>\n",
       "      <td>3</td>\n",
       "      <td>US, IA, Wever</td>\n",
       "      <td>NaN</td>\n",
       "      <td>NaN</td>\n",
       "      <td>0</td>\n",
       "      <td>1</td>\n",
       "      <td>0</td>\n",
       "      <td>NaN</td>\n",
       "      <td>NaN</td>\n",
       "      <td>NaN</td>\n",
       "      <td>NaN</td>\n",
       "      <td>NaN</td>\n",
       "      <td>0</td>\n",
       "      <td>NaN</td>\n",
       "    </tr>\n",
       "    <tr>\n",
       "      <th>3</th>\n",
       "      <td>4</td>\n",
       "      <td>US, DC, Washington</td>\n",
       "      <td>Sales</td>\n",
       "      <td>NaN</td>\n",
       "      <td>0</td>\n",
       "      <td>1</td>\n",
       "      <td>0</td>\n",
       "      <td>Full-time</td>\n",
       "      <td>Mid-Senior level</td>\n",
       "      <td>Bachelor's Degree</td>\n",
       "      <td>Computer Software</td>\n",
       "      <td>Sales</td>\n",
       "      <td>0</td>\n",
       "      <td>Our passion for improving quality of life thro...</td>\n",
       "    </tr>\n",
       "    <tr>\n",
       "      <th>4</th>\n",
       "      <td>5</td>\n",
       "      <td>US, FL, Fort Worth</td>\n",
       "      <td>NaN</td>\n",
       "      <td>NaN</td>\n",
       "      <td>0</td>\n",
       "      <td>1</td>\n",
       "      <td>1</td>\n",
       "      <td>Full-time</td>\n",
       "      <td>Mid-Senior level</td>\n",
       "      <td>Bachelor's Degree</td>\n",
       "      <td>Hospital &amp; Health Care</td>\n",
       "      <td>Health Care Provider</td>\n",
       "      <td>0</td>\n",
       "      <td>SpotSource Solutions LLC is a Global Human Cap...</td>\n",
       "    </tr>\n",
       "  </tbody>\n",
       "</table>\n",
       "</div>"
      ],
      "text/plain": [
       "   job_id            location department salary_range  telecommuting  \\\n",
       "0       1    US, NY, New York  Marketing          NaN              0   \n",
       "1       2      NZ, , Auckland    Success          NaN              0   \n",
       "2       3       US, IA, Wever        NaN          NaN              0   \n",
       "3       4  US, DC, Washington      Sales          NaN              0   \n",
       "4       5  US, FL, Fort Worth        NaN          NaN              0   \n",
       "\n",
       "   has_company_logo  has_questions employment_type required_experience  \\\n",
       "0                 1              0           Other          Internship   \n",
       "1                 1              0       Full-time      Not Applicable   \n",
       "2                 1              0             NaN                 NaN   \n",
       "3                 1              0       Full-time    Mid-Senior level   \n",
       "4                 1              1       Full-time    Mid-Senior level   \n",
       "\n",
       "  required_education                   industry              function  \\\n",
       "0                NaN                        NaN             Marketing   \n",
       "1                NaN  Marketing and Advertising      Customer Service   \n",
       "2                NaN                        NaN                   NaN   \n",
       "3  Bachelor's Degree          Computer Software                 Sales   \n",
       "4  Bachelor's Degree     Hospital & Health Care  Health Care Provider   \n",
       "\n",
       "   fraudulent                                   job_company_info  \n",
       "0           0                                                NaN  \n",
       "1           0  90 Seconds, the worlds Cloud Video Production ...  \n",
       "2           0                                                NaN  \n",
       "3           0  Our passion for improving quality of life thro...  \n",
       "4           0  SpotSource Solutions LLC is a Global Human Cap...  "
      ]
     },
     "execution_count": 117,
     "metadata": {},
     "output_type": "execute_result"
    }
   ],
   "source": [
    "fake.drop(['requirements','company_profile','description','benefits','title'],axis=1,inplace=True)\n",
    "fake.head()"
   ]
  },
  {
   "cell_type": "code",
   "execution_count": 118,
   "id": "aaec281a",
   "metadata": {},
   "outputs": [],
   "source": [
    "import pickle\n",
    "with open('lsa_summary.pkl','rb') as file:\n",
    "    summary = pickle.load(file)"
   ]
  },
  {
   "cell_type": "code",
   "execution_count": 119,
   "id": "b1dece48",
   "metadata": {},
   "outputs": [
    {
     "name": "stdout",
     "output_type": "stream",
     "text": [
      "0.0668153104781061\n"
     ]
    }
   ],
   "source": [
    "for i in summary[0]:\n",
    "    print(i[1])"
   ]
  },
  {
   "cell_type": "code",
   "execution_count": 120,
   "id": "3fb7b3ee",
   "metadata": {},
   "outputs": [],
   "source": [
    "numeric_summary = []\n",
    "for List in summary:\n",
    "    for innerList in List:\n",
    "        number = innerList[1]\n",
    "        numeric_summary.append(number)     "
   ]
  },
  {
   "cell_type": "code",
   "execution_count": 121,
   "id": "ce10e8df",
   "metadata": {},
   "outputs": [
    {
     "data": {
      "text/plain": [
       "[0.0668153104781061,\n",
       " 0.030015011259383207,\n",
       " 0.07669649888473704,\n",
       " 0.042874646285627205,\n",
       " 0.05652334189442215,\n",
       " 0.1709408646894569,\n",
       " 0.07254762501100116,\n",
       " 0.049446817643414874,\n",
       " 0.07106690545187015,\n",
       " 0.07495316889958614,\n",
       " 0.12110096839533452,\n",
       " 0.06868028197434452,\n",
       " 0.05832118435198043,\n",
       " 0.07352146220938077,\n",
       " 0.06900655593423542,\n",
       " 0.05439282932204212,\n",
       " 0.10314212462587934,\n",
       " 0.09712858623572641,\n",
       " 0.07235746052924216,\n",
       " 0.0663723311599972,\n",
       " 0.05157106231293967,\n",
       " 0.04038961958610097,\n",
       " 0.044455422447438706,\n",
       " 0.05547001962252291,\n",
       " 0.18257418583505536,\n",
       " 0.037011660509880265,\n",
       " 0.07035975447302918,\n",
       " 0.11867816581938533,\n",
       " 0.07832604499879574,\n",
       " 0.06454972243679027,\n",
       " 0.05063696835418333,\n",
       " 0.11396057645963795,\n",
       " 0.2668802563418119,\n",
       " 0.062136976600120006,\n",
       " 0.09622504486493763,\n",
       " 0.2,\n",
       " 0.2,\n",
       " 0.0563436169819011,\n",
       " 0.05496497099293127,\n",
       " 0.06337242505244779,\n",
       " 0.3713906763541037,\n",
       " 0.3713906763541037,\n",
       " 0.23570226039551587,\n",
       " 0.08111071056538127,\n",
       " 0.055641488407465724,\n",
       " 0.062017367294604234,\n",
       " 0.02719641466102106,\n",
       " 0.07106690545187015,\n",
       " 0.3713906763541037,\n",
       " 0.1318760946791574,\n",
       " 0.08058229640253803,\n",
       " 0.0594438298277764,\n",
       " 0.0854357657716761,\n",
       " 0.07761505257063328,\n",
       " 0.0607456739230787,\n",
       " 0.09759000729485333,\n",
       " 0.052558833122763673,\n",
       " 0.034482758620689655,\n",
       " 0.06415002990995841,\n",
       " 0.05986843400892496,\n",
       " 0.18257418583505536,\n",
       " 0.0922531208028885,\n",
       " 0.3713906763541037,\n",
       " 0.05679618342470648,\n",
       " 0.07018624063435965,\n",
       " 0.059028133610095526,\n",
       " 0.13736056394868904,\n",
       " 0.2581988897471611,\n",
       " 0.05177803730784977,\n",
       " 0.08804509063256238,\n",
       " 0.1,\n",
       " 0.15249857033260467,\n",
       " 0.06950480468569159,\n",
       " 0.21320071635561041,\n",
       " 0.07495316889958614,\n",
       " 0.04993761694389223,\n",
       " 0.06085806194501846,\n",
       " 0.07808688094430304,\n",
       " 0.028352398856187136,\n",
       " 0.06984302957695782,\n",
       " 0.3713906763541037,\n",
       " 0.1726306012945308,\n",
       " 0.13768567816430285,\n",
       " 0.06375767130633382,\n",
       " 0.07088812050083358,\n",
       " 0.037113480951260276,\n",
       " 0.0582222509739582,\n",
       " 0.06441566264008308,\n",
       " 0.04740454631399772,\n",
       " 0.3713906763541037,\n",
       " 0.050507627227610534,\n",
       " 0.05986843400892496,\n",
       " 0.07832604499879574,\n",
       " 0.07856742013183861,\n",
       " 0.079555728417573,\n",
       " 0.033351867298253506,\n",
       " 0.07053456158585983,\n",
       " 0.07856742013183861,\n",
       " 0.09072184232530289,\n",
       " 0.18569533817705186,\n",
       " 0.09622504486493763,\n",
       " 0.3713906763541037,\n",
       " 0.1543033499620919,\n",
       " 0.06917144638660747,\n",
       " 0.16666666666666666,\n",
       " 0.03300491809922248,\n",
       " 0.08032193289024989,\n",
       " 0.0594438298277764,\n",
       " 0.07516460280028289,\n",
       " 0.04130961923860138,\n",
       " 0.12649110640673517,\n",
       " 0.06495698024616309,\n",
       " 0.06933752452815364,\n",
       " 0.07372097807744857,\n",
       " 0.0604122093330177,\n",
       " 0.08247860988423225,\n",
       " 0.05399492471560388,\n",
       " 0.0827605888602368,\n",
       " 0.06509445549041194,\n",
       " 0.3713906763541037,\n",
       " 0.05892556509887897,\n",
       " 0.0949157995752499,\n",
       " 0.3713906763541037,\n",
       " 0.3713906763541037,\n",
       " 0.06468462273531508,\n",
       " 0.17609018126512477,\n",
       " 0.05407380704358752,\n",
       " 0.05423261445466404,\n",
       " 0.1143323900950059,\n",
       " 0.04867923835112355,\n",
       " 0.07001400420140048,\n",
       " 0.13216372009101796,\n",
       " 0.11043152607484653,\n",
       " 0.3713906763541037,\n",
       " 0.10878565864408424,\n",
       " 0.18569533817705186,\n",
       " 0.07669649888473704,\n",
       " 0.15249857033260467,\n",
       " 0.17038855027411945,\n",
       " 0.06835859270246633,\n",
       " 0.3779644730092272,\n",
       " 0.06967330142916177,\n",
       " 0.09712858623572641,\n",
       " 0.3481553119113957,\n",
       " 0.20851441405707477,\n",
       " 0.08838834764831843,\n",
       " 0.14547859349066158,\n",
       " 0.2407717061715384,\n",
       " 0.05923488777590923,\n",
       " 0.03840476863212843,\n",
       " 0.054717565516458275,\n",
       " 0.3713906763541037,\n",
       " 0.10700645625096325,\n",
       " 0.25712973861329,\n",
       " 0.08451542547285165,\n",
       " 0.05407380704358752,\n",
       " 0.1889822365046136,\n",
       " 0.18569533817705186,\n",
       " 0.06711560552140243,\n",
       " 0.09578262852211514,\n",
       " 0.04637388957601683,\n",
       " 0.07198157507486945,\n",
       " 0.12427395320024001,\n",
       " 0.11451966686277365,\n",
       " 0.09622504486493763,\n",
       " 0.05063696835418333,\n",
       " 0.18650096164806276,\n",
       " 0.07372097807744857,\n",
       " 0.06108472217815261,\n",
       " 0.06851887098275317,\n",
       " 0.10206207261596577,\n",
       " 0.09513029883089881,\n",
       " 0.02268629628464662,\n",
       " 0.035533452725935076,\n",
       " 0.13245323570650439,\n",
       " 0.06565321642986127,\n",
       " 0.3713906763541037,\n",
       " 0.07372097807744857,\n",
       " 0.05616559563017304,\n",
       " 0.19245008972987526,\n",
       " 'x',\n",
       " 0.3713906763541037,\n",
       " 0.0629940788348712,\n",
       " 0.23408229439226114,\n",
       " 0.06311944030978031,\n",
       " 0.13900960937138318,\n",
       " 0.05832118435198043,\n",
       " 0.09759000729485333,\n",
       " 0.18569533817705186,\n",
       " 0.18569533817705186,\n",
       " 0.0668153104781061,\n",
       " 0.07453559924999299,\n",
       " 0.13168538439184413,\n",
       " 0.05986843400892496,\n",
       " 0.07495316889958614,\n",
       " 0.05892556509887897,\n",
       " 0.3713906763541037,\n",
       " 0.06804138174397717,\n",
       " 0.0563436169819011,\n",
       " 0.052199575097188054,\n",
       " 0.04327423224079154,\n",
       " 0.06468462273531508,\n",
       " 0.3713906763541037,\n",
       " 0.17677669529663687,\n",
       " 0.0944911182523068,\n",
       " 0.0584206237836986,\n",
       " 0.05965499862718936,\n",
       " 0.13130643285972254,\n",
       " 0.18569533817705186,\n",
       " 0.07018624063435965,\n",
       " 0.07392212709545729,\n",
       " 0.04218245406095978,\n",
       " 0.06711560552140243,\n",
       " 0.06696495301824251,\n",
       " 0.02839809171235324,\n",
       " 0.15097027121927944,\n",
       " 0.18569533817705186,\n",
       " 0.08630637040042062,\n",
       " 0.057259833431386825,\n",
       " 0.12379689211803459,\n",
       " 0.04767312946227962,\n",
       " 0.08770580193070293,\n",
       " 0.0936585811581694,\n",
       " 0.18569533817705186,\n",
       " 0.05037927218598784,\n",
       " 0.08333333333333333,\n",
       " 0.18569533817705186,\n",
       " 0.17677669529663687,\n",
       " 0.0659380473395787,\n",
       " 0.051231551957855996,\n",
       " 0.06651901052377393,\n",
       " 0.3713906763541037,\n",
       " 0.08451542547285165,\n",
       " 0.14535047493345277,\n",
       " 0.07856742013183861,\n",
       " 0.07624928516630233,\n",
       " 0.05854564131118671,\n",
       " 0.18569533817705186,\n",
       " 0.16963778593599418,\n",
       " 0.07312724241271307,\n",
       " 0.06804138174397717,\n",
       " 0.0584206237836986,\n",
       " 0.05783149319662402,\n",
       " 0.20412414523193154,\n",
       " 0.04767312946227962,\n",
       " 0.05285164225816899,\n",
       " 0.18569533817705186,\n",
       " 0.053760333057047034,\n",
       " 0.0547996624351191,\n",
       " 0.09759000729485333,\n",
       " 0.07332355751067665,\n",
       " 0.06454972243679027,\n",
       " 0.2407717061715384,\n",
       " 0.4,\n",
       " 0.23904572186687872,\n",
       " 0.06666666666666667,\n",
       " 0.05832118435198043,\n",
       " 0.05177803730784977,\n",
       " 0.13703774196550633,\n",
       " 0.0827605888602368,\n",
       " 0.07516460280028289,\n",
       " 0.3061862178478973,\n",
       " 0.03673591791853225,\n",
       " 0.0827605888602368,\n",
       " 0.09759000729485333,\n",
       " 0.06819943394704735,\n",
       " 0.024776471541572212,\n",
       " 0.06819943394704735,\n",
       " 0.12909944487358055,\n",
       " 0.18569533817705186,\n",
       " 0.07692307692307693,\n",
       " 0.07692307692307693,\n",
       " 0.31622776601683794,\n",
       " 0.18569533817705186,\n",
       " 0.079555728417573,\n",
       " 0.05270462766947299,\n",
       " 0.08687444855261388,\n",
       " 0.0663723311599972,\n",
       " 0.4,\n",
       " 0.0490880693673816,\n",
       " 0.3713906763541037,\n",
       " 0.10165112213575457,\n",
       " 0.0604122093330177,\n",
       " 0.04177559931443568,\n",
       " 0.3713906763541037,\n",
       " 0.050964719143762556,\n",
       " 0.08606629658238704,\n",
       " 0.05322462954123495,\n",
       " 0.04025848411142373,\n",
       " 0.06741998624632421,\n",
       " 0.06884283908215143,\n",
       " 0.05407380704358752,\n",
       " 0.3713906763541037,\n",
       " 0.0576390417704235,\n",
       " 0.0468292905790847,\n",
       " 0.04828045495852676,\n",
       " 0.09245003270420485,\n",
       " 0.11624763874381928,\n",
       " 0.053916386601719206,\n",
       " 0.06772854614785964,\n",
       " 0.051366549693751415,\n",
       " 0.06788442333021306,\n",
       " 0.07832604499879574,\n",
       " 0.10846522890932808,\n",
       " 0.04667600280093366,\n",
       " 0.3713906763541037,\n",
       " 0.048621663832631515,\n",
       " 0.11846977555181847,\n",
       " 0.13245323570650439,\n",
       " 0.3713906763541037,\n",
       " 0.08131156281817417,\n",
       " 0.059028133610095526,\n",
       " 0.1270001270001905,\n",
       " 0.18569533817705186,\n",
       " 0.047565149415449405,\n",
       " 0.08075728530872482,\n",
       " 0.036588086663230115,\n",
       " 0.10614897848685505,\n",
       " 0.06925433610644437,\n",
       " 0.04867923835112355,\n",
       " 0.04602873089491617,\n",
       " 0.0668153104781061,\n",
       " 0.10153461651336192,\n",
       " 0.06651901052377393,\n",
       " 0.033557802760701215,\n",
       " 0.05227083734893167,\n",
       " 0.3713906763541037,\n",
       " 0.05954913341754137,\n",
       " 0.18569533817705186,\n",
       " 0.034815531191139566,\n",
       " 0.2,\n",
       " 0.2429826956923148,\n",
       " 0.07332355751067665,\n",
       " 0.11470786693528087,\n",
       " 0.06950480468569159,\n",
       " 0.0716114874039433,\n",
       " 0.08304547985373997,\n",
       " 0.07312724241271307,\n",
       " 0.3481553119113957,\n",
       " 0.2093695690360855,\n",
       " 0.13776731806365813,\n",
       " 0.06933752452815364,\n",
       " 0.049690399499995326,\n",
       " 0.06362847629757777,\n",
       " 0.4,\n",
       " 0.1203858530857692,\n",
       " 0.15384615384615385,\n",
       " 0.3713906763541037,\n",
       " 0.09325048082403138,\n",
       " 0.2128985181649398,\n",
       " 0.03984095364447979,\n",
       " 0.09090909090909091,\n",
       " 0.062257280636469035,\n",
       " 0.04120428217151646,\n",
       " 0.4082482904638631,\n",
       " 0.05423261445466404,\n",
       " 0.052558833122763673,\n",
       " 0.1889822365046136,\n",
       " 0.06900655593423542,\n",
       " 0.11995202878081344,\n",
       " 0.07142857142857142,\n",
       " 0.0316069770620507,\n",
       " 0.05037927218598784,\n",
       " 0.047836487323493986,\n",
       " 0.1386750490563073,\n",
       " 0.3713906763541037,\n",
       " 0.04867923835112355,\n",
       " 0.08219949365267865,\n",
       " 0.2182178902359924,\n",
       " 0.041959067914834454,\n",
       " 0.06950480468569159,\n",
       " 0.03880752628531664,\n",
       " 0.047619047619047616,\n",
       " 0.05773502691896257,\n",
       " 0.07726674092862558,\n",
       " 0.1726306012945308,\n",
       " 0.03386427307392982,\n",
       " 0.04351941398892446,\n",
       " 0.06868028197434452,\n",
       " 0.05198752449100364,\n",
       " 0.12126781251816648,\n",
       " 0.06608186004550898,\n",
       " 0.08032193289024989,\n",
       " 0.17407765595569785,\n",
       " 0.27472112789737807,\n",
       " 0.06468462273531508,\n",
       " 0.3713906763541037,\n",
       " 0.14990633779917228,\n",
       " 0.04393747751637468,\n",
       " 0.06350006350009525,\n",
       " 0.05439282932204212,\n",
       " 0.07432941462471664,\n",
       " 0.044946657497549475,\n",
       " 0.0584206237836986,\n",
       " 0.04740454631399772,\n",
       " 0.09205746178983235,\n",
       " 0.09950371902099892,\n",
       " 0.047619047619047616,\n",
       " 0.1125087900926024,\n",
       " 0.06537204504606134,\n",
       " 0.11805626722019105,\n",
       " 0.15523010514126656,\n",
       " 0.052558833122763673,\n",
       " 0.08006407690254357,\n",
       " 0.20851441405707477,\n",
       " 0.04490132550669373,\n",
       " 0.14106912317171966,\n",
       " 0.14433756729740646,\n",
       " 0.03971507353947688,\n",
       " 0.054312544659356844,\n",
       " 0.06804138174397717,\n",
       " 0.09284766908852593,\n",
       " 0.07392212709545729,\n",
       " 0.08333333333333333,\n",
       " 0.07053456158585983,\n",
       " 0.3922322702763681,\n",
       " 0.0657951694959769,\n",
       " 0.105999788000636,\n",
       " 0.07495316889958614,\n",
       " 0.10369516947304253,\n",
       " 0.057259833431386825,\n",
       " 0.18569533817705186,\n",
       " 0.0562543950463012,\n",
       " 0.055131784641997125,\n",
       " 0.10540925533894598,\n",
       " 0.051031036307982884,\n",
       " 0.12171612389003691,\n",
       " 0.08512565307587486,\n",
       " 0.13608276348795434,\n",
       " 0.06565321642986127,\n",
       " 0.052558833122763673,\n",
       " 0.07235746052924216,\n",
       " 0.06142951168339512,\n",
       " 0.1933472978091327,\n",
       " 0.12379689211803459,\n",
       " 0.22360679774997896,\n",
       " 0.3713906763541037,\n",
       " 0.3713906763541037,\n",
       " 0.06696495301824251,\n",
       " 0.053916386601719206,\n",
       " 0.07715167498104596,\n",
       " 0.1796053020267749,\n",
       " 0.07832604499879574,\n",
       " 0.1841149235796647,\n",
       " 0.3713906763541037,\n",
       " 0.0668153104781061,\n",
       " 0.08362420100070908,\n",
       " 0.06131393394849658,\n",
       " 0.1091089451179962,\n",
       " 0.09701425001453319,\n",
       " 0.09119215051751065,\n",
       " 0.09325048082403138,\n",
       " 0.04376881095324085,\n",
       " 0.04735137238103784,\n",
       " 0.14071950894605836,\n",
       " 0.07142857142857142,\n",
       " 0.08164965809277261,\n",
       " 0.07559289460184544,\n",
       " 0.16963778593599418,\n",
       " 0.08333333333333333,\n",
       " 0.05037927218598784,\n",
       " 0.05616559563017304,\n",
       " 0.3713906763541037,\n",
       " 0.1125087900926024,\n",
       " 0.03793216209054408,\n",
       " 0.058722021951470346,\n",
       " 0.12909944487358055,\n",
       " 0.05360562674188974,\n",
       " 0.07474350927519359,\n",
       " 0.5337449961641163,\n",
       " 0.17177950029416048,\n",
       " 0.04588314677411235,\n",
       " 0.25607375986579195,\n",
       " 0.3713906763541037,\n",
       " 0.17677669529663687,\n",
       " 0.09205746178983235,\n",
       " 0.06108472217815261,\n",
       " 0.0436852028330519,\n",
       " 0.06154574548966636,\n",
       " 0.06835859270246633,\n",
       " 0.14253430144367396,\n",
       " 0.034731435582359395,\n",
       " 0.0582222509739582,\n",
       " 0.07352146220938077,\n",
       " 0.06454972243679027,\n",
       " 0.06482037235521644,\n",
       " 0.2182178902359924,\n",
       " 0.06741998624632421,\n",
       " 0.046274481338274755,\n",
       " 0.07537783614444091,\n",
       " 0.05352877275721892,\n",
       " 0.23210354127426377,\n",
       " 0.04009634698823127,\n",
       " 0.25,\n",
       " 0.08703882797784893,\n",
       " 0.06741998624632421,\n",
       " 0.06868028197434452,\n",
       " 0.0716114874039433,\n",
       " 0.053300179088902604,\n",
       " 0.05698028822981897,\n",
       " 0.2886751345948129,\n",
       " 0.052558833122763673,\n",
       " 0.14586499149789456,\n",
       " 0.18569533817705186,\n",
       " 0.05,\n",
       " 0.06884283908215143,\n",
       " 0.11470786693528087,\n",
       " 0.06819943394704735,\n",
       " 0.3713906763541037,\n",
       " 0.052558833122763673,\n",
       " 0.07930515857181442,\n",
       " 0.04003203845127178,\n",
       " 0.18569533817705186,\n",
       " 0.12803687993289598,\n",
       " 0.13514747567989718,\n",
       " 0.05345224838248487,\n",
       " 0.08813052984784635,\n",
       " 0.062017367294604234,\n",
       " 0.22941573387056174,\n",
       " 0.13074409009212268,\n",
       " 0.05997601439040672,\n",
       " 0.4,\n",
       " 0.07088812050083358,\n",
       " 0.0949157995752499,\n",
       " 0.06337242505244779,\n",
       " 0.09145661412745384,\n",
       " 0.07881104062391006,\n",
       " 0.043314808182421,\n",
       " 0.048970210687439175,\n",
       " 0.11094003924504582,\n",
       " 0.08058229640253803,\n",
       " 0.14285714285714285,\n",
       " 0.04181210050035454,\n",
       " 0.03925343359894298,\n",
       " 0.3713906763541037,\n",
       " 0.10660035817780521,\n",
       " 0.1259881576697424,\n",
       " 0.08770580193070293,\n",
       " 0.047565149415449405,\n",
       " 0.05031546054266276,\n",
       " 0.14907119849998599,\n",
       " 0.22075539284417398,\n",
       " 0.07235746052924216,\n",
       " 0.12803687993289598,\n",
       " 0.06696495301824251,\n",
       " 0.1889822365046136,\n",
       " 0.06495698024616309,\n",
       " 0.14359163172354764,\n",
       " 0.12171612389003691,\n",
       " 0.35355339059327373,\n",
       " 0.0607456739230787,\n",
       " 0.3713906763541037,\n",
       " 0.050507627227610534,\n",
       " 0.22360679774997896,\n",
       " 0.049690399499995326,\n",
       " 0.3713906763541037,\n",
       " 0.14002800840280097,\n",
       " 0.21320071635561041,\n",
       " 0.1690308509457033,\n",
       " 0.18823674154144757,\n",
       " 0.07179581586177382,\n",
       " 0.06509445549041194,\n",
       " 0.12216944435630522,\n",
       " 0.17896499588156806,\n",
       " 0.06622661785325219,\n",
       " 0.0629940788348712,\n",
       " 0.062257280636469035,\n",
       " 0.04778184825674966,\n",
       " 0.18569533817705186,\n",
       " 0.18569533817705186,\n",
       " 0.0899842541331695,\n",
       " 0.037582301400141446,\n",
       " 0.028583097523751475,\n",
       " 0.030993786368687184,\n",
       " 0.09284766908852593,\n",
       " 0.3713906763541037,\n",
       " 0.3713906763541037,\n",
       " 0.06131393394849658,\n",
       " 0.06379009321094968,\n",
       " 0.23973165074269207,\n",
       " 0.06551217820804184,\n",
       " 0.05337605126836238,\n",
       " 0.06984302957695782,\n",
       " 0.05070201265633938,\n",
       " 0.06933752452815364,\n",
       " 0.06362847629757777,\n",
       " 0.09853292781642932,\n",
       " 0.3713906763541037,\n",
       " 0.05345224838248487,\n",
       " 0.061662641597820735,\n",
       " 0.1414213562373095,\n",
       " 0.15617376188860607,\n",
       " 0.18569533817705186,\n",
       " 0.18569533817705186,\n",
       " 0.0594438298277764,\n",
       " 0.06741998624632421,\n",
       " 0.3713906763541037,\n",
       " 0.05277798139692595,\n",
       " 0.1208244186660354,\n",
       " 0.0657951694959769,\n",
       " 0.06509445549041194,\n",
       " 0.06741998624632421,\n",
       " 0.05783149319662402,\n",
       " 0.09523809523809523,\n",
       " 0.03959037912324479,\n",
       " 0.049326362366699,\n",
       " 0.057353933467640436,\n",
       " 0.0629940788348712,\n",
       " 0.07881104062391006,\n",
       " 0.047836487323493986,\n",
       " 0.0574484989621426,\n",
       " 0.08606629658238704,\n",
       " 0.11995202878081344,\n",
       " 0.05716619504750295,\n",
       " 0.051031036307982884,\n",
       " 0.06454972243679027,\n",
       " 0.06868028197434452,\n",
       " 0.08512565307587486,\n",
       " 0.14744195615489714,\n",
       " 0.052558833122763673,\n",
       " 0.2773500981126146,\n",
       " 0.13130643285972254,\n",
       " 0.3713906763541037,\n",
       " 0.04372694694466261,\n",
       " 0.18070158058105026,\n",
       " 0.06788442333021306,\n",
       " 0.05212860351426869,\n",
       " 0.11322770341445956,\n",
       " 0.062136976600120006,\n",
       " 0.0467780269724988,\n",
       " 0.05620994273193427,\n",
       " 0.08304547985373997,\n",
       " 0.0553001263609331,\n",
       " 0.13130643285972254,\n",
       " 0.042295493443781355,\n",
       " 0.17677669529663687,\n",
       " 0.06711560552140243,\n",
       " 0.07738232325341368,\n",
       " 0.13392990603648502,\n",
       " 0.0949157995752499,\n",
       " 0.07624928516630233,\n",
       " 0.11867816581938533,\n",
       " 0.05177803730784977,\n",
       " 0.11547005383792514,\n",
       " 0.04360207201969474,\n",
       " 0.07453559924999299,\n",
       " 0.056077215409204434,\n",
       " 0.07254762501100116,\n",
       " 0.05547001962252291,\n",
       " 0.3713906763541037,\n",
       " 0.05031546054266276,\n",
       " 0.05832118435198043,\n",
       " 0.3922322702763681,\n",
       " 0.05812381937190964,\n",
       " 0.06441566264008308,\n",
       " 0.12309149097933272,\n",
       " 0.11215443081840887,\n",
       " 0.037371754637596795,\n",
       " 0.0827605888602368,\n",
       " 0.06868028197434452,\n",
       " 0.09950371902099892,\n",
       " 0.04993761694389223,\n",
       " 0.04607756775840914,\n",
       " 0.036785594638885484,\n",
       " 0.061898446059017294,\n",
       " 0.04203313517091986,\n",
       " 0.04264014327112208,\n",
       " 0.15523010514126656,\n",
       " 0.036860489038724284,\n",
       " 0.038152379685825785,\n",
       " 0.04828045495852676,\n",
       " 0.3713906763541037,\n",
       " 0.07692307692307693,\n",
       " 0.06415002990995841,\n",
       " 0.06565321642986127,\n",
       " 0.12803687993289598,\n",
       " 0.03949762527666821,\n",
       " 0.07293249574894728,\n",
       " 0.3086066999241838,\n",
       " 0.06851887098275317,\n",
       " 0.03388370737858486,\n",
       " 0.11470786693528087,\n",
       " 0.13018891098082389,\n",
       " 0.04356068418690321,\n",
       " 0.10721125348377948,\n",
       " 0.13900960937138318,\n",
       " 0.0842151921066519,\n",
       " 0.05083285677753489,\n",
       " 0.039968038348871575,\n",
       " 0.18569533817705186,\n",
       " 0.057259833431386825,\n",
       " 0.05812381937190964,\n",
       " 0.3713906763541037,\n",
       " 0.052199575097188054,\n",
       " 0.0604122093330177,\n",
       " 0.032009219983223994,\n",
       " 0.3713906763541037,\n",
       " 0.3713906763541037,\n",
       " 0.05314940034527339,\n",
       " 0.07001400420140048,\n",
       " 0.04463218426774518,\n",
       " 0.3713906763541037,\n",
       " 0.3713906763541037,\n",
       " 0.062257280636469035,\n",
       " 0.04177559931443568,\n",
       " 0.0519174131651165,\n",
       " 0.18569533817705186,\n",
       " 0.1781741612749496,\n",
       " 0.21650635094610968,\n",
       " 0.06468462273531508,\n",
       " 0.08953229620716904,\n",
       " 0.05581455721859476,\n",
       " 0.18569533817705186,\n",
       " 0.35355339059327373,\n",
       " 0.04794633014853841,\n",
       " 0.06142951168339512,\n",
       " 0.10397504898200728,\n",
       " 0.0576390417704235,\n",
       " 0.21637116120395772,\n",
       " 0.030233702757845024,\n",
       " 0.10540925533894598,\n",
       " 0.04252432555625623,\n",
       " 0.11043152607484653,\n",
       " 0.03569153051241249,\n",
       " 0.02238307405179226,\n",
       " 0.09090909090909091,\n",
       " 0.038376477822666816,\n",
       " 0.05360562674188974,\n",
       " 0.04612656040144425,\n",
       " 0.08164965809277261,\n",
       " 0.050964719143762556,\n",
       " 0.038152379685825785,\n",
       " 0.06696495301824251,\n",
       " 0.07293249574894728,\n",
       " 0.17677669529663687,\n",
       " 0.06900655593423542,\n",
       " 0.03275608910402092,\n",
       " 0.062017367294604234,\n",
       " 0.10846522890932808,\n",
       " 0.3713906763541037,\n",
       " 0.0467780269724988,\n",
       " 0.04632410546120795,\n",
       " 0.18569533817705186,\n",
       " 0.06131393394849658,\n",
       " 0.11180339887498948,\n",
       " 0.06362847629757777,\n",
       " 0.06063390625908324,\n",
       " 0.18569533817705186,\n",
       " 0.08164965809277261,\n",
       " 0.039103094350288754,\n",
       " 0.045980048987170286,\n",
       " 0.086710996952412,\n",
       " 0.05707301455353496,\n",
       " 0.0607456739230787,\n",
       " 0.04210759605332595,\n",
       " 0.3713906763541037,\n",
       " 0.04016096644512494,\n",
       " 0.0510976130307596,\n",
       " 0.14452587470598482,\n",
       " 0.05383819020581655,\n",
       " 0.13707349871548616,\n",
       " 0.07198157507486945,\n",
       " 0.2814390178921167,\n",
       " 0.27144835701531844,\n",
       " 0.0629940788348712,\n",
       " 0.07580980435789034,\n",
       " 0.08804509063256238,\n",
       " 0.1203858530857692,\n",
       " 0.15037641213512565,\n",
       " 0.08606629658238704,\n",
       " 0.1643989873053573,\n",
       " 0.07392212709545729,\n",
       " 0.054717565516458275,\n",
       " 0.05143444998736397,\n",
       " 0.052199575097188054,\n",
       " 0.07053456158585983,\n",
       " 0.04252432555625623,\n",
       " 0.11867816581938533,\n",
       " 0.10425720702853739,\n",
       " 0.046274481338274755,\n",
       " 0.04708816093480111,\n",
       " 0.06415002990995841,\n",
       " 0.06696495301824251,\n",
       " 0.11451966686277365,\n",
       " 0.054717565516458275,\n",
       " 0.12104550653376049,\n",
       " 0.07980868844676221,\n",
       " 0.04025848411142373,\n",
       " 0.0668153104781061,\n",
       " 0.14586499149789456,\n",
       " 0.17149858514250882,\n",
       " 0.053300179088902604,\n",
       " 0.04155858174616913,\n",
       " 0.12945955560063094,\n",
       " 0.1345345587992625,\n",
       " 0.049326362366699,\n",
       " 0.17149858514250882,\n",
       " 0.13483997249264842,\n",
       " 0.1466471150213533,\n",
       " 0.11785113019775793,\n",
       " 0.07808688094430304,\n",
       " 0.03594425773447947,\n",
       " 0.11624763874381928,\n",
       " 0.3713906763541037,\n",
       " 0.0890870806374748,\n",
       " 0.1059336827319673,\n",
       " 0.19289712886816485,\n",
       " 0.13687718216583097,\n",
       " 0.05314940034527339,\n",
       " 0.3713906763541037,\n",
       " 0.5,\n",
       " 0.3713906763541037,\n",
       " 0.0576390417704235,\n",
       " 0.3651483716701107,\n",
       " 0.08124444637023875,\n",
       " 0.11396057645963795,\n",
       " 0.10923092273587207,\n",
       " 0.4,\n",
       " 0.05447347107028433,\n",
       " 0.04389512813061471,\n",
       " 0.05037927218598784,\n",
       " 0.0625,\n",
       " 0.4,\n",
       " 0.10846522890932808,\n",
       " 0.4,\n",
       " 0.03946685189819292,\n",
       " 0.04962916669854651,\n",
       " 0.07412493166611012,\n",
       " 0.18569533817705186,\n",
       " 0.09090909090909091,\n",
       " 0.06154574548966636,\n",
       " 0.02690934710508624,\n",
       " 0.06337242505244779,\n",
       " 0.07881104062391006,\n",
       " 0.3872983346207417,\n",
       " 0.0524863881081478,\n",
       " 0.4,\n",
       " 0.4,\n",
       " 0.051708768999501914,\n",
       " 0.042485928866208736,\n",
       " 0.045267873021259265,\n",
       " 0.05212860351426869,\n",
       " 0.05322462954123495,\n",
       " 0.06401843996644799,\n",
       " 0.18219500746971076,\n",
       " 0.07580980435789034,\n",
       " 0.09950371902099892,\n",
       " 0.05547001962252291,\n",
       " 0.11867816581938533,\n",
       " 0.05954913341754137,\n",
       " 0.08333333333333333,\n",
       " 0.09166984970282113,\n",
       " 0.18569533817705186,\n",
       " 0.12356041264304309,\n",
       " 0.2,\n",
       " 0.0625,\n",
       " 0.058025885318565944,\n",
       " 0.050443327230531826,\n",
       " 0.21997067253202995,\n",
       " 0.045221563164613454,\n",
       " 0.07392212709545729,\n",
       " 0.0642824346533225,\n",
       " 0.09759000729485333,\n",
       " 0.05913123959890826,\n",
       " 0.06178020632152154,\n",
       " 0.2773500981126146,\n",
       " 0.1643989873053573,\n",
       " 0.0659380473395787,\n",
       " 0.07053456158585983,\n",
       " 0.13130643285972254,\n",
       " 0.058025885318565944,\n",
       " 0.05006261743217589,\n",
       " 0.21442250696755896,\n",
       " 0.11704114719613057,\n",
       " 0.12649110640673517,\n",
       " 0.05006261743217589,\n",
       " 0.07453559924999299,\n",
       " 0.18814417367671946,\n",
       " 0.04740454631399772,\n",
       " 0.3,\n",
       " 0.11470786693528087,\n",
       " 0.12403473458920847,\n",
       " 0.05661385170722978,\n",
       " 0.07580980435789034,\n",
       " 0.06551217820804184,\n",
       " 0.07432941462471664,\n",
       " 0.06711560552140243,\n",
       " 0.06950480468569159,\n",
       " 0.18033392693348646,\n",
       " 0.07088812050083358,\n",
       " 0.06441566264008308,\n",
       " 0.06085806194501846,\n",
       " 0.032773676267223106,\n",
       " 0.0565685424949238,\n",
       " 0.0547996624351191,\n",
       " 0.14586499149789456,\n",
       " 0.07053456158585983,\n",
       " 0.07014306238318944,\n",
       " 0.06375767130633382,\n",
       " 0.14547859349066158,\n",
       " 0.07808688094430304,\n",
       " 0.1483517883104568,\n",
       " 0.06286946134619315,\n",
       " 0.1543033499620919,\n",
       " 0.05632127170361524,\n",
       " 0.05399492471560388,\n",
       " 0.0582222509739582,\n",
       " 0.04962916669854651,\n",
       " 0.14189513095212064,\n",
       " 0.25,\n",
       " 0.07832604499879574,\n",
       " 0.06950480468569159,\n",
       " 0.06311944030978031,\n",
       " 0.04607756775840914,\n",
       " 0.0890870806374748,\n",
       " 0.04109974682633932,\n",
       " 0.16116459280507606,\n",
       " 0.060522753266880246,\n",
       " 0.058520573598065284,\n",
       " 0.09975093361076329,\n",
       " 0.13736056394868904,\n",
       " 0.04159451654038515,\n",
       " 0.4181210050035454,\n",
       " 0.07559289460184544,\n",
       " 0.03779644730092272,\n",
       " 0.04267895997763199,\n",
       " 0.1466471150213533,\n",
       " 0.03253000243161777,\n",
       " 0.06097107608496923,\n",
       " 0.07273929674533079,\n",
       " 0.06119900613621046,\n",
       " 0.03661260129691062,\n",
       " 0.07412493166611012,\n",
       " 0.14824986333222023,\n",
       " 0.10721125348377948,\n",
       " 0.1638463841038081,\n",
       " 0.07001400420140048,\n",
       " 0.04218245406095978,\n",
       " 0.055048188256318034,\n",
       " 0.04299335803923478,\n",
       " 0.25,\n",
       " 0.12649110640673517,\n",
       " 0.14784425419091457,\n",
       " 0.04554875186742769,\n",
       " 0.08032193289024989,\n",
       " 0.08574929257125441,\n",
       " 0.04432422071779363,\n",
       " 0.2,\n",
       " 0.06772854614785964,\n",
       " 0.07035975447302918,\n",
       " 0.060522753266880246,\n",
       " 0.06482037235521644,\n",
       " 0.04920678313051229,\n",
       " 0.17149858514250882,\n",
       " 0.04079085082240021,\n",
       " 0.05997601439040672,\n",
       " 0.07412493166611012,\n",
       " 0.13018891098082389,\n",
       " 0.10721125348377948,\n",
       " 0.07905694150420949,\n",
       " 0.08944271909999159,\n",
       " 0.22086305214969307,\n",
       " 0.09090909090909091,\n",
       " 0.0842151921066519,\n",
       " 0.11162911443718952,\n",
       " 0.3713906763541037,\n",
       " 0.12883132528016616,\n",
       " 0.11180339887498948,\n",
       " 0.20573779994945587,\n",
       " 0.0642824346533225,\n",
       " 0.0536828127095019,\n",
       " 0.05070201265633938,\n",
       " 0.13703774196550633,\n",
       " 0.07273929674533079,\n",
       " 0.06884283908215143,\n",
       " 0.05547001962252291,\n",
       " 0.05006261743217589,\n",
       " 0.06350006350009525,\n",
       " 0.06967330142916177,\n",
       " 0.08137884587711594,\n",
       " 0.04981354813867179,\n",
       " 0.14433756729740646,\n",
       " 0.04593152121746254,\n",
       " 0.08512565307587486,\n",
       " 0.0936585811581694,\n",
       " 0.052199575097188054,\n",
       " 0.07715167498104596,\n",
       " 0.0973584767022471,\n",
       " 0.054312544659356844,\n",
       " 0.0582222509739582,\n",
       " 0.10511766624552735,\n",
       " 0.08838834764831843,\n",
       " 0.05923488777590923,\n",
       " 0.07808688094430304,\n",
       " 0.1386750490563073,\n",
       " 0.04009634698823127,\n",
       " 0.34619385792633234,\n",
       " 0.06324555320336758,\n",
       " 0.18257418583505536,\n",
       " 0.0982946374365981,\n",
       " ...]"
      ]
     },
     "execution_count": 121,
     "metadata": {},
     "output_type": "execute_result"
    }
   ],
   "source": [
    "numeric_summary"
   ]
  },
  {
   "cell_type": "code",
   "execution_count": 122,
   "id": "9ee16f62",
   "metadata": {},
   "outputs": [
    {
     "name": "stdout",
     "output_type": "stream",
     "text": [
      "=========================================================\n",
      "The dataframe after concatenating.\n"
     ]
    },
    {
     "data": {
      "text/html": [
       "<div>\n",
       "<style scoped>\n",
       "    .dataframe tbody tr th:only-of-type {\n",
       "        vertical-align: middle;\n",
       "    }\n",
       "\n",
       "    .dataframe tbody tr th {\n",
       "        vertical-align: top;\n",
       "    }\n",
       "\n",
       "    .dataframe thead th {\n",
       "        text-align: right;\n",
       "    }\n",
       "</style>\n",
       "<table border=\"1\" class=\"dataframe\">\n",
       "  <thead>\n",
       "    <tr style=\"text-align: right;\">\n",
       "      <th></th>\n",
       "      <th>job_id</th>\n",
       "      <th>location</th>\n",
       "      <th>department</th>\n",
       "      <th>salary_range</th>\n",
       "      <th>telecommuting</th>\n",
       "      <th>has_company_logo</th>\n",
       "      <th>has_questions</th>\n",
       "      <th>employment_type</th>\n",
       "      <th>required_experience</th>\n",
       "      <th>required_education</th>\n",
       "      <th>industry</th>\n",
       "      <th>function</th>\n",
       "      <th>fraudulent</th>\n",
       "      <th>job_company_info</th>\n",
       "      <th>Vec_output</th>\n",
       "    </tr>\n",
       "  </thead>\n",
       "  <tbody>\n",
       "    <tr>\n",
       "      <th>0</th>\n",
       "      <td>1</td>\n",
       "      <td>US, NY, New York</td>\n",
       "      <td>Marketing</td>\n",
       "      <td>NaN</td>\n",
       "      <td>0</td>\n",
       "      <td>1</td>\n",
       "      <td>0</td>\n",
       "      <td>Other</td>\n",
       "      <td>Internship</td>\n",
       "      <td>NaN</td>\n",
       "      <td>NaN</td>\n",
       "      <td>Marketing</td>\n",
       "      <td>0</td>\n",
       "      <td>NaN</td>\n",
       "      <td>0.066815</td>\n",
       "    </tr>\n",
       "    <tr>\n",
       "      <th>1</th>\n",
       "      <td>2</td>\n",
       "      <td>NZ, , Auckland</td>\n",
       "      <td>Success</td>\n",
       "      <td>NaN</td>\n",
       "      <td>0</td>\n",
       "      <td>1</td>\n",
       "      <td>0</td>\n",
       "      <td>Full-time</td>\n",
       "      <td>Not Applicable</td>\n",
       "      <td>NaN</td>\n",
       "      <td>Marketing and Advertising</td>\n",
       "      <td>Customer Service</td>\n",
       "      <td>0</td>\n",
       "      <td>90 Seconds, the worlds Cloud Video Production ...</td>\n",
       "      <td>0.030015</td>\n",
       "    </tr>\n",
       "    <tr>\n",
       "      <th>2</th>\n",
       "      <td>3</td>\n",
       "      <td>US, IA, Wever</td>\n",
       "      <td>NaN</td>\n",
       "      <td>NaN</td>\n",
       "      <td>0</td>\n",
       "      <td>1</td>\n",
       "      <td>0</td>\n",
       "      <td>NaN</td>\n",
       "      <td>NaN</td>\n",
       "      <td>NaN</td>\n",
       "      <td>NaN</td>\n",
       "      <td>NaN</td>\n",
       "      <td>0</td>\n",
       "      <td>NaN</td>\n",
       "      <td>0.076696</td>\n",
       "    </tr>\n",
       "    <tr>\n",
       "      <th>3</th>\n",
       "      <td>4</td>\n",
       "      <td>US, DC, Washington</td>\n",
       "      <td>Sales</td>\n",
       "      <td>NaN</td>\n",
       "      <td>0</td>\n",
       "      <td>1</td>\n",
       "      <td>0</td>\n",
       "      <td>Full-time</td>\n",
       "      <td>Mid-Senior level</td>\n",
       "      <td>Bachelor's Degree</td>\n",
       "      <td>Computer Software</td>\n",
       "      <td>Sales</td>\n",
       "      <td>0</td>\n",
       "      <td>Our passion for improving quality of life thro...</td>\n",
       "      <td>0.042875</td>\n",
       "    </tr>\n",
       "    <tr>\n",
       "      <th>4</th>\n",
       "      <td>5</td>\n",
       "      <td>US, FL, Fort Worth</td>\n",
       "      <td>NaN</td>\n",
       "      <td>NaN</td>\n",
       "      <td>0</td>\n",
       "      <td>1</td>\n",
       "      <td>1</td>\n",
       "      <td>Full-time</td>\n",
       "      <td>Mid-Senior level</td>\n",
       "      <td>Bachelor's Degree</td>\n",
       "      <td>Hospital &amp; Health Care</td>\n",
       "      <td>Health Care Provider</td>\n",
       "      <td>0</td>\n",
       "      <td>SpotSource Solutions LLC is a Global Human Cap...</td>\n",
       "      <td>0.056523</td>\n",
       "    </tr>\n",
       "  </tbody>\n",
       "</table>\n",
       "</div>"
      ],
      "text/plain": [
       "   job_id            location department salary_range  telecommuting  \\\n",
       "0       1    US, NY, New York  Marketing          NaN              0   \n",
       "1       2      NZ, , Auckland    Success          NaN              0   \n",
       "2       3       US, IA, Wever        NaN          NaN              0   \n",
       "3       4  US, DC, Washington      Sales          NaN              0   \n",
       "4       5  US, FL, Fort Worth        NaN          NaN              0   \n",
       "\n",
       "   has_company_logo  has_questions employment_type required_experience  \\\n",
       "0                 1              0           Other          Internship   \n",
       "1                 1              0       Full-time      Not Applicable   \n",
       "2                 1              0             NaN                 NaN   \n",
       "3                 1              0       Full-time    Mid-Senior level   \n",
       "4                 1              1       Full-time    Mid-Senior level   \n",
       "\n",
       "  required_education                   industry              function  \\\n",
       "0                NaN                        NaN             Marketing   \n",
       "1                NaN  Marketing and Advertising      Customer Service   \n",
       "2                NaN                        NaN                   NaN   \n",
       "3  Bachelor's Degree          Computer Software                 Sales   \n",
       "4  Bachelor's Degree     Hospital & Health Care  Health Care Provider   \n",
       "\n",
       "   fraudulent                                   job_company_info Vec_output  \n",
       "0           0                                                NaN   0.066815  \n",
       "1           0  90 Seconds, the worlds Cloud Video Production ...   0.030015  \n",
       "2           0                                                NaN   0.076696  \n",
       "3           0  Our passion for improving quality of life thro...   0.042875  \n",
       "4           0  SpotSource Solutions LLC is a Global Human Cap...   0.056523  "
      ]
     },
     "execution_count": 122,
     "metadata": {},
     "output_type": "execute_result"
    }
   ],
   "source": [
    "#Concatenating the numeric values for text data in the dataframe.\n",
    "num_df = pd.DataFrame(numeric_summary,columns=['Vec_output'])\n",
    "num_df.head()\n",
    "print('=========================================================')\n",
    "print('The dataframe after concatenating.')\n",
    "final_df = pd.concat([fake,num_df],axis=1)\n",
    "final_df.head()"
   ]
  },
  {
   "cell_type": "code",
   "execution_count": 123,
   "id": "d5683bdf",
   "metadata": {},
   "outputs": [
    {
     "data": {
      "text/html": [
       "<div>\n",
       "<style scoped>\n",
       "    .dataframe tbody tr th:only-of-type {\n",
       "        vertical-align: middle;\n",
       "    }\n",
       "\n",
       "    .dataframe tbody tr th {\n",
       "        vertical-align: top;\n",
       "    }\n",
       "\n",
       "    .dataframe thead th {\n",
       "        text-align: right;\n",
       "    }\n",
       "</style>\n",
       "<table border=\"1\" class=\"dataframe\">\n",
       "  <thead>\n",
       "    <tr style=\"text-align: right;\">\n",
       "      <th></th>\n",
       "      <th>job_id</th>\n",
       "      <th>telecommuting</th>\n",
       "      <th>has_company_logo</th>\n",
       "      <th>has_questions</th>\n",
       "      <th>fraudulent</th>\n",
       "    </tr>\n",
       "  </thead>\n",
       "  <tbody>\n",
       "    <tr>\n",
       "      <th>count</th>\n",
       "      <td>17880.000000</td>\n",
       "      <td>17880.000000</td>\n",
       "      <td>17880.000000</td>\n",
       "      <td>17880.000000</td>\n",
       "      <td>17880.000000</td>\n",
       "    </tr>\n",
       "    <tr>\n",
       "      <th>mean</th>\n",
       "      <td>8940.500000</td>\n",
       "      <td>0.042897</td>\n",
       "      <td>0.795302</td>\n",
       "      <td>0.491723</td>\n",
       "      <td>0.048434</td>\n",
       "    </tr>\n",
       "    <tr>\n",
       "      <th>std</th>\n",
       "      <td>5161.655742</td>\n",
       "      <td>0.202631</td>\n",
       "      <td>0.403492</td>\n",
       "      <td>0.499945</td>\n",
       "      <td>0.214688</td>\n",
       "    </tr>\n",
       "    <tr>\n",
       "      <th>min</th>\n",
       "      <td>1.000000</td>\n",
       "      <td>0.000000</td>\n",
       "      <td>0.000000</td>\n",
       "      <td>0.000000</td>\n",
       "      <td>0.000000</td>\n",
       "    </tr>\n",
       "    <tr>\n",
       "      <th>25%</th>\n",
       "      <td>4470.750000</td>\n",
       "      <td>0.000000</td>\n",
       "      <td>1.000000</td>\n",
       "      <td>0.000000</td>\n",
       "      <td>0.000000</td>\n",
       "    </tr>\n",
       "    <tr>\n",
       "      <th>50%</th>\n",
       "      <td>8940.500000</td>\n",
       "      <td>0.000000</td>\n",
       "      <td>1.000000</td>\n",
       "      <td>0.000000</td>\n",
       "      <td>0.000000</td>\n",
       "    </tr>\n",
       "    <tr>\n",
       "      <th>75%</th>\n",
       "      <td>13410.250000</td>\n",
       "      <td>0.000000</td>\n",
       "      <td>1.000000</td>\n",
       "      <td>1.000000</td>\n",
       "      <td>0.000000</td>\n",
       "    </tr>\n",
       "    <tr>\n",
       "      <th>max</th>\n",
       "      <td>17880.000000</td>\n",
       "      <td>1.000000</td>\n",
       "      <td>1.000000</td>\n",
       "      <td>1.000000</td>\n",
       "      <td>1.000000</td>\n",
       "    </tr>\n",
       "  </tbody>\n",
       "</table>\n",
       "</div>"
      ],
      "text/plain": [
       "             job_id  telecommuting  has_company_logo  has_questions  \\\n",
       "count  17880.000000   17880.000000      17880.000000   17880.000000   \n",
       "mean    8940.500000       0.042897          0.795302       0.491723   \n",
       "std     5161.655742       0.202631          0.403492       0.499945   \n",
       "min        1.000000       0.000000          0.000000       0.000000   \n",
       "25%     4470.750000       0.000000          1.000000       0.000000   \n",
       "50%     8940.500000       0.000000          1.000000       0.000000   \n",
       "75%    13410.250000       0.000000          1.000000       1.000000   \n",
       "max    17880.000000       1.000000          1.000000       1.000000   \n",
       "\n",
       "         fraudulent  \n",
       "count  17880.000000  \n",
       "mean       0.048434  \n",
       "std        0.214688  \n",
       "min        0.000000  \n",
       "25%        0.000000  \n",
       "50%        0.000000  \n",
       "75%        0.000000  \n",
       "max        1.000000  "
      ]
     },
     "execution_count": 123,
     "metadata": {},
     "output_type": "execute_result"
    }
   ],
   "source": [
    "final_df.describe()"
   ]
  },
  {
   "cell_type": "code",
   "execution_count": 124,
   "id": "ce1d2af7",
   "metadata": {},
   "outputs": [
    {
     "name": "stdout",
     "output_type": "stream",
     "text": [
      "['US', ' NY', ' New York']\n",
      "US\n"
     ]
    }
   ],
   "source": [
    "txt = final_df['location'][0]\n",
    "text = txt.split(\",\")\n",
    "print(text)\n",
    "print(text[0])"
   ]
  },
  {
   "cell_type": "code",
   "execution_count": 125,
   "id": "94c32c5c",
   "metadata": {},
   "outputs": [
    {
     "data": {
      "text/plain": [
       "job_id                     0\n",
       "location                 346\n",
       "department             11547\n",
       "salary_range           15012\n",
       "telecommuting              0\n",
       "has_company_logo           0\n",
       "has_questions              0\n",
       "employment_type         3471\n",
       "required_experience     7050\n",
       "required_education      8105\n",
       "industry                4903\n",
       "function                6455\n",
       "fraudulent                 0\n",
       "job_company_info        9034\n",
       "Vec_output                 0\n",
       "dtype: int64"
      ]
     },
     "execution_count": 125,
     "metadata": {},
     "output_type": "execute_result"
    }
   ],
   "source": [
    "final_df.isna().sum()"
   ]
  },
  {
   "cell_type": "code",
   "execution_count": 126,
   "id": "6e221f9d",
   "metadata": {},
   "outputs": [
    {
     "data": {
      "text/plain": [
       "(17880, 15)"
      ]
     },
     "execution_count": 126,
     "metadata": {},
     "output_type": "execute_result"
    }
   ],
   "source": [
    "final_df.shape"
   ]
  },
  {
   "cell_type": "code",
   "execution_count": 127,
   "id": "629bc49e",
   "metadata": {},
   "outputs": [],
   "source": [
    "#Majority of attributes have high % of NA values. Hence no point in imputation.\n",
    "final_df.drop(['department','salary_range','telecommuting','required_experience','required_education','function','job_company_info'],axis=1,inplace=True)"
   ]
  },
  {
   "cell_type": "code",
   "execution_count": 128,
   "id": "3857d8a7",
   "metadata": {},
   "outputs": [
    {
     "data": {
      "text/plain": [
       "Index(['job_id', 'location', 'has_company_logo', 'has_questions',\n",
       "       'employment_type', 'industry', 'fraudulent', 'Vec_output'],\n",
       "      dtype='object')"
      ]
     },
     "execution_count": 128,
     "metadata": {},
     "output_type": "execute_result"
    }
   ],
   "source": [
    "final_df.columns"
   ]
  },
  {
   "cell_type": "code",
   "execution_count": 129,
   "id": "a206698d",
   "metadata": {},
   "outputs": [],
   "source": [
    "def extract_country(text):\n",
    "    if isinstance(text,str):\n",
    "        txt = text.split(\",\")\n",
    "        extract = txt[0]\n",
    "        return extract\n",
    "    "
   ]
  },
  {
   "cell_type": "code",
   "execution_count": 130,
   "id": "3c1a662a",
   "metadata": {},
   "outputs": [],
   "source": [
    "final_df['location'] = final_df['location'].apply(extract_country)"
   ]
  },
  {
   "cell_type": "code",
   "execution_count": 131,
   "id": "269b423e",
   "metadata": {},
   "outputs": [
    {
     "data": {
      "text/plain": [
       "0        US\n",
       "1        NZ\n",
       "2        US\n",
       "3        US\n",
       "4        US\n",
       "         ..\n",
       "17875    CA\n",
       "17876    US\n",
       "17877    US\n",
       "17878    NG\n",
       "17879    NZ\n",
       "Name: location, Length: 17880, dtype: object"
      ]
     },
     "execution_count": 131,
     "metadata": {},
     "output_type": "execute_result"
    }
   ],
   "source": [
    "final_df.location"
   ]
  },
  {
   "cell_type": "code",
   "execution_count": 132,
   "id": "dab84ca5",
   "metadata": {},
   "outputs": [
    {
     "data": {
      "text/plain": [
       "346"
      ]
     },
     "execution_count": 132,
     "metadata": {},
     "output_type": "execute_result"
    }
   ],
   "source": [
    "final_df.location.isna().sum()"
   ]
  },
  {
   "cell_type": "code",
   "execution_count": 133,
   "id": "379cf2ac",
   "metadata": {},
   "outputs": [
    {
     "data": {
      "text/plain": [
       "US    10656\n",
       "GB     2384\n",
       "GR      940\n",
       "CA      457\n",
       "DE      383\n",
       "      ...  \n",
       "SI        1\n",
       "PE        1\n",
       "SD        1\n",
       "UG        1\n",
       "KH        1\n",
       "Name: location, Length: 90, dtype: int64"
      ]
     },
     "execution_count": 133,
     "metadata": {},
     "output_type": "execute_result"
    }
   ],
   "source": [
    "final_df.location.value_counts()"
   ]
  },
  {
   "cell_type": "code",
   "execution_count": 134,
   "id": "d1365b7a",
   "metadata": {},
   "outputs": [],
   "source": [
    "from sklearn.impute import SimpleImputer"
   ]
  },
  {
   "cell_type": "code",
   "execution_count": 135,
   "id": "9abf9b33",
   "metadata": {},
   "outputs": [],
   "source": [
    "impute = SimpleImputer(strategy='most_frequent')\n",
    "imputed_data = impute.fit_transform(final_df)"
   ]
  },
  {
   "cell_type": "code",
   "execution_count": 136,
   "id": "35772479",
   "metadata": {},
   "outputs": [],
   "source": [
    "imputed_df = pd.DataFrame(imputed_data,columns=final_df.columns)"
   ]
  },
  {
   "cell_type": "code",
   "execution_count": 137,
   "id": "eafa4f63",
   "metadata": {},
   "outputs": [
    {
     "data": {
      "text/html": [
       "<div>\n",
       "<style scoped>\n",
       "    .dataframe tbody tr th:only-of-type {\n",
       "        vertical-align: middle;\n",
       "    }\n",
       "\n",
       "    .dataframe tbody tr th {\n",
       "        vertical-align: top;\n",
       "    }\n",
       "\n",
       "    .dataframe thead th {\n",
       "        text-align: right;\n",
       "    }\n",
       "</style>\n",
       "<table border=\"1\" class=\"dataframe\">\n",
       "  <thead>\n",
       "    <tr style=\"text-align: right;\">\n",
       "      <th></th>\n",
       "      <th>job_id</th>\n",
       "      <th>location</th>\n",
       "      <th>has_company_logo</th>\n",
       "      <th>has_questions</th>\n",
       "      <th>employment_type</th>\n",
       "      <th>industry</th>\n",
       "      <th>fraudulent</th>\n",
       "      <th>Vec_output</th>\n",
       "    </tr>\n",
       "  </thead>\n",
       "  <tbody>\n",
       "    <tr>\n",
       "      <th>0</th>\n",
       "      <td>1</td>\n",
       "      <td>US</td>\n",
       "      <td>1</td>\n",
       "      <td>0</td>\n",
       "      <td>Other</td>\n",
       "      <td>Information Technology and Services</td>\n",
       "      <td>0</td>\n",
       "      <td>0.066815</td>\n",
       "    </tr>\n",
       "    <tr>\n",
       "      <th>1</th>\n",
       "      <td>2</td>\n",
       "      <td>NZ</td>\n",
       "      <td>1</td>\n",
       "      <td>0</td>\n",
       "      <td>Full-time</td>\n",
       "      <td>Marketing and Advertising</td>\n",
       "      <td>0</td>\n",
       "      <td>0.030015</td>\n",
       "    </tr>\n",
       "    <tr>\n",
       "      <th>2</th>\n",
       "      <td>3</td>\n",
       "      <td>US</td>\n",
       "      <td>1</td>\n",
       "      <td>0</td>\n",
       "      <td>Full-time</td>\n",
       "      <td>Information Technology and Services</td>\n",
       "      <td>0</td>\n",
       "      <td>0.076696</td>\n",
       "    </tr>\n",
       "    <tr>\n",
       "      <th>3</th>\n",
       "      <td>4</td>\n",
       "      <td>US</td>\n",
       "      <td>1</td>\n",
       "      <td>0</td>\n",
       "      <td>Full-time</td>\n",
       "      <td>Computer Software</td>\n",
       "      <td>0</td>\n",
       "      <td>0.042875</td>\n",
       "    </tr>\n",
       "    <tr>\n",
       "      <th>4</th>\n",
       "      <td>5</td>\n",
       "      <td>US</td>\n",
       "      <td>1</td>\n",
       "      <td>1</td>\n",
       "      <td>Full-time</td>\n",
       "      <td>Hospital &amp; Health Care</td>\n",
       "      <td>0</td>\n",
       "      <td>0.056523</td>\n",
       "    </tr>\n",
       "  </tbody>\n",
       "</table>\n",
       "</div>"
      ],
      "text/plain": [
       "  job_id location has_company_logo has_questions employment_type  \\\n",
       "0      1       US                1             0           Other   \n",
       "1      2       NZ                1             0       Full-time   \n",
       "2      3       US                1             0       Full-time   \n",
       "3      4       US                1             0       Full-time   \n",
       "4      5       US                1             1       Full-time   \n",
       "\n",
       "                              industry fraudulent Vec_output  \n",
       "0  Information Technology and Services          0   0.066815  \n",
       "1            Marketing and Advertising          0   0.030015  \n",
       "2  Information Technology and Services          0   0.076696  \n",
       "3                    Computer Software          0   0.042875  \n",
       "4               Hospital & Health Care          0   0.056523  "
      ]
     },
     "execution_count": 137,
     "metadata": {},
     "output_type": "execute_result"
    }
   ],
   "source": [
    "imputed_df.head()"
   ]
  },
  {
   "cell_type": "code",
   "execution_count": 138,
   "id": "dc502bcb",
   "metadata": {},
   "outputs": [],
   "source": [
    "imputed_df.dropna(inplace=True)"
   ]
  },
  {
   "cell_type": "code",
   "execution_count": 139,
   "id": "c987561e",
   "metadata": {},
   "outputs": [
    {
     "name": "stdout",
     "output_type": "stream",
     "text": [
      "Index(['job_id', 'location', 'has_company_logo', 'has_questions',\n",
      "       'employment_type', 'industry', 'fraudulent', 'Vec_output'],\n",
      "      dtype='object')\n"
     ]
    }
   ],
   "source": [
    "imputed_df.isna().sum()\n",
    "print(imputed_df.columns)"
   ]
  },
  {
   "cell_type": "code",
   "execution_count": 140,
   "id": "93f339d2",
   "metadata": {},
   "outputs": [
    {
     "data": {
      "text/plain": [
       "Full-time    14781\n",
       "Contract      1512\n",
       "Part-time      783\n",
       "Temporary      239\n",
       "Other          219\n",
       "Name: employment_type, dtype: int64"
      ]
     },
     "execution_count": 140,
     "metadata": {},
     "output_type": "execute_result"
    }
   ],
   "source": [
    "imputed_df['employment_type'].value_counts()"
   ]
  },
  {
   "cell_type": "code",
   "execution_count": 141,
   "id": "a86d4a80",
   "metadata": {},
   "outputs": [
    {
     "data": {
      "text/plain": [
       "Information Technology and Services    6373\n",
       "Computer Software                      1364\n",
       "Internet                               1048\n",
       "Education Management                    822\n",
       "Marketing and Advertising               821\n",
       "                                       ... \n",
       "Museums and Institutions                  1\n",
       "Wine and Spirits                          1\n",
       "Shipbuilding                              1\n",
       "Alternative Dispute Resolution            1\n",
       "Ranching                                  1\n",
       "Name: industry, Length: 131, dtype: int64"
      ]
     },
     "execution_count": 141,
     "metadata": {},
     "output_type": "execute_result"
    }
   ],
   "source": [
    "imputed_df['industry'].value_counts()"
   ]
  },
  {
   "cell_type": "code",
   "execution_count": 142,
   "id": "06eceafb",
   "metadata": {},
   "outputs": [
    {
     "data": {
      "text/plain": [
       "job_id              object\n",
       "location            object\n",
       "has_company_logo    object\n",
       "has_questions       object\n",
       "employment_type     object\n",
       "industry            object\n",
       "fraudulent          object\n",
       "Vec_output          object\n",
       "dtype: object"
      ]
     },
     "execution_count": 142,
     "metadata": {},
     "output_type": "execute_result"
    }
   ],
   "source": [
    "imputed_df.dtypes"
   ]
  },
  {
   "cell_type": "code",
   "execution_count": 143,
   "id": "dcc4699c",
   "metadata": {},
   "outputs": [],
   "source": [
    "from sklearn.preprocessing import LabelEncoder"
   ]
  },
  {
   "cell_type": "code",
   "execution_count": 144,
   "id": "9e767c6f",
   "metadata": {},
   "outputs": [],
   "source": [
    "le = LabelEncoder()\n",
    "imputed_df['industry'] = le.fit_transform(imputed_df['industry']).ravel()\n",
    "imputed_df['employment_type'] = le.fit_transform(imputed_df['employment_type']).ravel()\n",
    "imputed_df['location'] = le.fit_transform(imputed_df['location']).ravel()"
   ]
  },
  {
   "cell_type": "code",
   "execution_count": 145,
   "id": "0994bfcc",
   "metadata": {},
   "outputs": [
    {
     "data": {
      "text/plain": [
       "0        85\n",
       "1        60\n",
       "2        85\n",
       "3        85\n",
       "4        85\n",
       "         ..\n",
       "17875    12\n",
       "17876    85\n",
       "17877    85\n",
       "17878    56\n",
       "17879    60\n",
       "Name: location, Length: 17534, dtype: int32"
      ]
     },
     "execution_count": 145,
     "metadata": {},
     "output_type": "execute_result"
    }
   ],
   "source": [
    "imputed_df['location']"
   ]
  },
  {
   "cell_type": "code",
   "execution_count": 146,
   "id": "8720b5c0",
   "metadata": {},
   "outputs": [
    {
     "data": {
      "text/plain": [
       "0    0.951694\n",
       "1    0.048306\n",
       "Name: fraudulent, dtype: float64"
      ]
     },
     "execution_count": 146,
     "metadata": {},
     "output_type": "execute_result"
    }
   ],
   "source": [
    "imputed_df['fraudulent'].value_counts(normalize=True)"
   ]
  },
  {
   "cell_type": "code",
   "execution_count": 147,
   "id": "dc6b77d3",
   "metadata": {},
   "outputs": [
    {
     "name": "stdout",
     "output_type": "stream",
     "text": [
      "Data types after LabelEncoding\n"
     ]
    },
    {
     "data": {
      "text/plain": [
       "job_id              object\n",
       "location             int32\n",
       "has_company_logo    object\n",
       "has_questions       object\n",
       "employment_type      int32\n",
       "industry             int32\n",
       "fraudulent          object\n",
       "Vec_output          object\n",
       "dtype: object"
      ]
     },
     "execution_count": 147,
     "metadata": {},
     "output_type": "execute_result"
    }
   ],
   "source": [
    "print('Data types after LabelEncoding')\n",
    "imputed_df.dtypes"
   ]
  },
  {
   "cell_type": "code",
   "execution_count": 148,
   "id": "19ad0f00",
   "metadata": {},
   "outputs": [],
   "source": [
    "#Converting the columns with object datatype to numeric. Except job_id.\n",
    "for i in imputed_df.columns[1:8]:\n",
    "    if imputed_df[i].dtype == 'object':\n",
    "        imputed_df[i] = pd.to_numeric(imputed_df[i],errors='coerce')"
   ]
  },
  {
   "cell_type": "code",
   "execution_count": 149,
   "id": "c681cec7",
   "metadata": {},
   "outputs": [
    {
     "name": "stdout",
     "output_type": "stream",
     "text": [
      "After coversion data types\n"
     ]
    },
    {
     "data": {
      "text/plain": [
       "job_id               object\n",
       "location              int32\n",
       "has_company_logo      int64\n",
       "has_questions         int64\n",
       "employment_type       int32\n",
       "industry              int32\n",
       "fraudulent            int64\n",
       "Vec_output          float64\n",
       "dtype: object"
      ]
     },
     "execution_count": 149,
     "metadata": {},
     "output_type": "execute_result"
    }
   ],
   "source": [
    "print('After coversion data types')\n",
    "imputed_df.dtypes"
   ]
  },
  {
   "cell_type": "code",
   "execution_count": 150,
   "id": "7fb64c7f",
   "metadata": {},
   "outputs": [],
   "source": [
    "from sklearn.model_selection import train_test_split,GridSearchCV"
   ]
  },
  {
   "cell_type": "code",
   "execution_count": 151,
   "id": "8e14c63f",
   "metadata": {},
   "outputs": [
    {
     "name": "stdout",
     "output_type": "stream",
     "text": [
      "(14027, 6)\n",
      "(3507, 6)\n",
      "(14027,)\n",
      "(3507,)\n"
     ]
    }
   ],
   "source": [
    "X = imputed_df.drop(['fraudulent','job_id'],axis=1)\n",
    "Y = imputed_df['fraudulent']\n",
    "xtrain,xtest,ytrain,ytest = train_test_split(X,Y,test_size=0.2,random_state=123,shuffle=True)\n",
    "print(xtrain.shape)\n",
    "print(xtest.shape)\n",
    "print(ytrain.shape)\n",
    "print(ytest.shape)"
   ]
  },
  {
   "cell_type": "code",
   "execution_count": 152,
   "id": "216f5012",
   "metadata": {},
   "outputs": [
    {
     "name": "stdout",
     "output_type": "stream",
     "text": [
      "The ratio of classes in target attribute after spliting are 0    0.952235\n",
      "1    0.047765\n",
      "Name: fraudulent, dtype: float64\n"
     ]
    }
   ],
   "source": [
    "print('The ratio of classes in target attribute after spliting are',ytrain.value_counts(normalize=True))"
   ]
  },
  {
   "cell_type": "code",
   "execution_count": 153,
   "id": "8c02a95d",
   "metadata": {},
   "outputs": [
    {
     "name": "stdout",
     "output_type": "stream",
     "text": [
      "The ratio of classes in target attribute for test set are 0    0.94953\n",
      "1    0.05047\n",
      "Name: fraudulent, dtype: float64\n"
     ]
    }
   ],
   "source": [
    "print('The ratio of classes in target attribute for test set are',ytest.value_counts(normalize=True))"
   ]
  },
  {
   "cell_type": "code",
   "execution_count": 154,
   "id": "50397031",
   "metadata": {},
   "outputs": [
    {
     "data": {
      "text/plain": [
       "0.10334645145739618"
      ]
     },
     "execution_count": 154,
     "metadata": {},
     "output_type": "execute_result"
    }
   ],
   "source": [
    "xtrain.Vec_output.mean()"
   ]
  },
  {
   "cell_type": "code",
   "execution_count": 155,
   "id": "d0f17c25",
   "metadata": {},
   "outputs": [],
   "source": [
    "xtrain.fillna( 0.103346,inplace=True)"
   ]
  },
  {
   "cell_type": "code",
   "execution_count": 156,
   "id": "15add19a",
   "metadata": {},
   "outputs": [
    {
     "data": {
      "text/plain": [
       "location              int32\n",
       "has_company_logo      int64\n",
       "has_questions         int64\n",
       "employment_type       int32\n",
       "industry              int32\n",
       "Vec_output          float64\n",
       "dtype: object"
      ]
     },
     "execution_count": 156,
     "metadata": {},
     "output_type": "execute_result"
    }
   ],
   "source": [
    "xtrain.dtypes"
   ]
  },
  {
   "cell_type": "code",
   "execution_count": 157,
   "id": "fe78bb23",
   "metadata": {},
   "outputs": [],
   "source": [
    "ytrain = le.fit_transform(ytrain)"
   ]
  },
  {
   "cell_type": "code",
   "execution_count": 158,
   "id": "8b842c11",
   "metadata": {},
   "outputs": [],
   "source": [
    "from imblearn.over_sampling import SMOTE\n",
    "smt = SMOTE(random_state=42)\n",
    "#print('Before',ytrain.value_counts(normalize=True))\n",
    "xtrain_sm,ytrain_sm = smt.fit_resample(xtrain,ytrain)\n",
    "#print('After',ytrain_sm.value_counts(normalize=True))"
   ]
  },
  {
   "cell_type": "code",
   "execution_count": 159,
   "id": "0a371e1d",
   "metadata": {},
   "outputs": [],
   "source": [
    "from sklearn.linear_model import LogisticRegression\n",
    "from sklearn.metrics import precision_score,accuracy_score,f1_score,recall_score,confusion_matrix"
   ]
  },
  {
   "cell_type": "code",
   "execution_count": 160,
   "id": "0acbc532",
   "metadata": {},
   "outputs": [
    {
     "data": {
      "text/plain": [
       "array([0, 0, 0, ..., 0, 0, 0], dtype=int64)"
      ]
     },
     "execution_count": 160,
     "metadata": {},
     "output_type": "execute_result"
    }
   ],
   "source": [
    "ytrain"
   ]
  },
  {
   "cell_type": "code",
   "execution_count": 161,
   "id": "afeacf7e",
   "metadata": {},
   "outputs": [
    {
     "data": {
      "text/html": [
       "<style>#sk-container-id-5 {color: black;}#sk-container-id-5 pre{padding: 0;}#sk-container-id-5 div.sk-toggleable {background-color: white;}#sk-container-id-5 label.sk-toggleable__label {cursor: pointer;display: block;width: 100%;margin-bottom: 0;padding: 0.3em;box-sizing: border-box;text-align: center;}#sk-container-id-5 label.sk-toggleable__label-arrow:before {content: \"▸\";float: left;margin-right: 0.25em;color: #696969;}#sk-container-id-5 label.sk-toggleable__label-arrow:hover:before {color: black;}#sk-container-id-5 div.sk-estimator:hover label.sk-toggleable__label-arrow:before {color: black;}#sk-container-id-5 div.sk-toggleable__content {max-height: 0;max-width: 0;overflow: hidden;text-align: left;background-color: #f0f8ff;}#sk-container-id-5 div.sk-toggleable__content pre {margin: 0.2em;color: black;border-radius: 0.25em;background-color: #f0f8ff;}#sk-container-id-5 input.sk-toggleable__control:checked~div.sk-toggleable__content {max-height: 200px;max-width: 100%;overflow: auto;}#sk-container-id-5 input.sk-toggleable__control:checked~label.sk-toggleable__label-arrow:before {content: \"▾\";}#sk-container-id-5 div.sk-estimator input.sk-toggleable__control:checked~label.sk-toggleable__label {background-color: #d4ebff;}#sk-container-id-5 div.sk-label input.sk-toggleable__control:checked~label.sk-toggleable__label {background-color: #d4ebff;}#sk-container-id-5 input.sk-hidden--visually {border: 0;clip: rect(1px 1px 1px 1px);clip: rect(1px, 1px, 1px, 1px);height: 1px;margin: -1px;overflow: hidden;padding: 0;position: absolute;width: 1px;}#sk-container-id-5 div.sk-estimator {font-family: monospace;background-color: #f0f8ff;border: 1px dotted black;border-radius: 0.25em;box-sizing: border-box;margin-bottom: 0.5em;}#sk-container-id-5 div.sk-estimator:hover {background-color: #d4ebff;}#sk-container-id-5 div.sk-parallel-item::after {content: \"\";width: 100%;border-bottom: 1px solid gray;flex-grow: 1;}#sk-container-id-5 div.sk-label:hover label.sk-toggleable__label {background-color: #d4ebff;}#sk-container-id-5 div.sk-serial::before {content: \"\";position: absolute;border-left: 1px solid gray;box-sizing: border-box;top: 0;bottom: 0;left: 50%;z-index: 0;}#sk-container-id-5 div.sk-serial {display: flex;flex-direction: column;align-items: center;background-color: white;padding-right: 0.2em;padding-left: 0.2em;position: relative;}#sk-container-id-5 div.sk-item {position: relative;z-index: 1;}#sk-container-id-5 div.sk-parallel {display: flex;align-items: stretch;justify-content: center;background-color: white;position: relative;}#sk-container-id-5 div.sk-item::before, #sk-container-id-5 div.sk-parallel-item::before {content: \"\";position: absolute;border-left: 1px solid gray;box-sizing: border-box;top: 0;bottom: 0;left: 50%;z-index: -1;}#sk-container-id-5 div.sk-parallel-item {display: flex;flex-direction: column;z-index: 1;position: relative;background-color: white;}#sk-container-id-5 div.sk-parallel-item:first-child::after {align-self: flex-end;width: 50%;}#sk-container-id-5 div.sk-parallel-item:last-child::after {align-self: flex-start;width: 50%;}#sk-container-id-5 div.sk-parallel-item:only-child::after {width: 0;}#sk-container-id-5 div.sk-dashed-wrapped {border: 1px dashed gray;margin: 0 0.4em 0.5em 0.4em;box-sizing: border-box;padding-bottom: 0.4em;background-color: white;}#sk-container-id-5 div.sk-label label {font-family: monospace;font-weight: bold;display: inline-block;line-height: 1.2em;}#sk-container-id-5 div.sk-label-container {text-align: center;}#sk-container-id-5 div.sk-container {/* jupyter's `normalize.less` sets `[hidden] { display: none; }` but bootstrap.min.css set `[hidden] { display: none !important; }` so we also need the `!important` here to be able to override the default hidden behavior on the sphinx rendered scikit-learn.org. See: https://github.com/scikit-learn/scikit-learn/issues/21755 */display: inline-block !important;position: relative;}#sk-container-id-5 div.sk-text-repr-fallback {display: none;}</style><div id=\"sk-container-id-5\" class=\"sk-top-container\"><div class=\"sk-text-repr-fallback\"><pre>LogisticRegression(random_state=10, solver=&#x27;newton-cholesky&#x27;)</pre><b>In a Jupyter environment, please rerun this cell to show the HTML representation or trust the notebook. <br />On GitHub, the HTML representation is unable to render, please try loading this page with nbviewer.org.</b></div><div class=\"sk-container\" hidden><div class=\"sk-item\"><div class=\"sk-estimator sk-toggleable\"><input class=\"sk-toggleable__control sk-hidden--visually\" id=\"sk-estimator-id-5\" type=\"checkbox\" checked><label for=\"sk-estimator-id-5\" class=\"sk-toggleable__label sk-toggleable__label-arrow\">LogisticRegression</label><div class=\"sk-toggleable__content\"><pre>LogisticRegression(random_state=10, solver=&#x27;newton-cholesky&#x27;)</pre></div></div></div></div></div>"
      ],
      "text/plain": [
       "LogisticRegression(random_state=10, solver='newton-cholesky')"
      ]
     },
     "execution_count": 161,
     "metadata": {},
     "output_type": "execute_result"
    }
   ],
   "source": [
    "lr = LogisticRegression(random_state=10,solver='newton-cholesky')\n",
    "lr.fit(xtrain_sm,ytrain_sm)"
   ]
  },
  {
   "cell_type": "code",
   "execution_count": 162,
   "id": "916cfea4",
   "metadata": {},
   "outputs": [],
   "source": [
    "def evaluate(ytrue, ypred):\n",
    "    accuracy = accuracy_score(ytrue, ypred)\n",
    "    recall = recall_score(ytrue, ypred)\n",
    "    precision = precision_score(ytrue, ypred, zero_division=1)\n",
    "    f1 = f1_score(ytrue, ypred)\n",
    "\n",
    "    print(f'Accuracy is {accuracy:.2f}')\n",
    "    print(f'Recall is {recall:.2f}')\n",
    "    print(f'Precision is {precision:.2f}')\n",
    "    print(f'F1 score is {f1:.2f}')"
   ]
  },
  {
   "cell_type": "code",
   "execution_count": 163,
   "id": "a26e3f48",
   "metadata": {},
   "outputs": [],
   "source": [
    "pred_train = lr.predict(xtrain)"
   ]
  },
  {
   "cell_type": "code",
   "execution_count": 164,
   "id": "f126c452",
   "metadata": {},
   "outputs": [
    {
     "name": "stdout",
     "output_type": "stream",
     "text": [
      "The metrics for training set are\n",
      "Accuracy is 0.81\n",
      "Recall is 0.66\n",
      "Precision is 0.15\n",
      "F1 score is 0.25\n"
     ]
    }
   ],
   "source": [
    "print('The metrics for training set are')\n",
    "evaluate(ytrain,pred_train)"
   ]
  },
  {
   "cell_type": "code",
   "execution_count": 165,
   "id": "3b8b33c5",
   "metadata": {},
   "outputs": [
    {
     "data": {
      "text/plain": [
       "array([0.16214796, 0.11472438, 0.30810997, ..., 0.1614673 , 0.32285238,\n",
       "       0.11908892])"
      ]
     },
     "execution_count": 165,
     "metadata": {},
     "output_type": "execute_result"
    }
   ],
   "source": [
    "y_prob = lr.predict_proba(xtest)[:,1]\n",
    "y_prob"
   ]
  },
  {
   "cell_type": "markdown",
   "id": "cdb8bed1",
   "metadata": {},
   "source": [
    "#### > In binary classification Logistic Regression has threshold of 0.5. Any probality greater than 0.5 is 1 and else than 0.5 is 0. \n",
    "\n",
    "\n",
    "#### > In our case we want our model to have low false rate. This can be achieved by emphasizing our recall scores.\n",
    "\n",
    "\n",
    "#### > We are evaluating best threshold for our model which maximizes the recall score."
   ]
  },
  {
   "cell_type": "code",
   "execution_count": 166,
   "id": "21c006b3",
   "metadata": {},
   "outputs": [],
   "source": [
    "def trade_off(ytest,y_prob):\n",
    "    threshold = [0.2,0.3,0.4,0.5,0.6,0.7,0.8]\n",
    "    score = {}\n",
    "    for i in threshold:\n",
    "        y_pred = [1 if prob >= i else 0 for prob in y_prob]\n",
    "        recall = recall_score(ytest,y_pred)\n",
    "        precision = precision_score(ytest,y_pred)\n",
    "        score.update({i:[recall,precision]})\n",
    "    return score"
   ]
  },
  {
   "cell_type": "code",
   "execution_count": 167,
   "id": "541bd683",
   "metadata": {},
   "outputs": [],
   "source": [
    "recall_precision_trade_off = trade_off(ytest,y_prob)"
   ]
  },
  {
   "cell_type": "code",
   "execution_count": 168,
   "id": "a01f0646",
   "metadata": {},
   "outputs": [
    {
     "data": {
      "text/plain": [
       "{0.2: [0.9717514124293786, 0.07116259826230864],\n",
       " 0.3: [0.8813559322033898, 0.10283454185893211],\n",
       " 0.4: [0.6949152542372882, 0.13882618510158012],\n",
       " 0.5: [0.5706214689265536, 0.1463768115942029],\n",
       " 0.6: [0.536723163841808, 0.16101694915254236],\n",
       " 0.7: [0.5310734463276836, 0.17279411764705882],\n",
       " 0.8: [0.4180790960451977, 0.15913978494623657]}"
      ]
     },
     "execution_count": 168,
     "metadata": {},
     "output_type": "execute_result"
    }
   ],
   "source": [
    "recall_precision_trade_off"
   ]
  },
  {
   "cell_type": "code",
   "execution_count": 169,
   "id": "28bffb39",
   "metadata": {},
   "outputs": [
    {
     "data": {
      "image/png": "[encoded data removed]",
      "text/plain": [
       "<Figure size 640x480 with 1 Axes>"
      ]
     },
     "metadata": {},
     "output_type": "display_data"
    }
   ],
   "source": [
    "import matplotlib.pyplot as plt\n",
    "x_values = recall_precision_trade_off.keys()\n",
    "y_values = recall_precision_trade_off.values()\n",
    "plt.plot(x_values,y_values,linestyle='dashed')\n",
    "plt.xlabel('Threshold values')\n",
    "plt.ylabel('Scores')\n",
    "plt.title('Recall VS Precision')\n",
    "plt.show()"
   ]
  },
  {
   "cell_type": "code",
   "execution_count": 170,
   "id": "31d09ae6",
   "metadata": {},
   "outputs": [],
   "source": [
    "from sklearn.ensemble import RandomForestClassifier,AdaBoostClassifier\n",
    "from sklearn.tree import  DecisionTreeClassifier\n",
    "from sklearn.model_selection import RepeatedStratifiedKFold,cross_val_score\n",
    "from sklearn.metrics import roc_auc_score"
   ]
  },
  {
   "cell_type": "code",
   "execution_count": 171,
   "id": "adc46041",
   "metadata": {},
   "outputs": [],
   "source": [
    "#rf = RandomForestClassifier()\n",
    "#params = {\n",
    "##    'max_depth':[3,6,9,12],'criterion':['entropy','gini'],\n",
    " #   'max_features':['log2','sqrt'],\n",
    "#    'min_samples_split':[2,3],'n_estimators':[50,100,150]\n",
    "#}\n",
    "#grid = GridSearchCV(estimator = rf, param_grid = params , scoring='recall')\n",
    "#grid.fit(xtrain_sm,ytrain_sm) "
   ]
  },
  {
   "cell_type": "code",
   "execution_count": 172,
   "id": "3337d66c",
   "metadata": {},
   "outputs": [],
   "source": [
    "#grid.best_params_ "
   ]
  },
  {
   "cell_type": "code",
   "execution_count": 173,
   "id": "61a0322e",
   "metadata": {},
   "outputs": [
    {
     "data": {
      "text/html": [
       "<style>#sk-container-id-6 {color: black;}#sk-container-id-6 pre{padding: 0;}#sk-container-id-6 div.sk-toggleable {background-color: white;}#sk-container-id-6 label.sk-toggleable__label {cursor: pointer;display: block;width: 100%;margin-bottom: 0;padding: 0.3em;box-sizing: border-box;text-align: center;}#sk-container-id-6 label.sk-toggleable__label-arrow:before {content: \"▸\";float: left;margin-right: 0.25em;color: #696969;}#sk-container-id-6 label.sk-toggleable__label-arrow:hover:before {color: black;}#sk-container-id-6 div.sk-estimator:hover label.sk-toggleable__label-arrow:before {color: black;}#sk-container-id-6 div.sk-toggleable__content {max-height: 0;max-width: 0;overflow: hidden;text-align: left;background-color: #f0f8ff;}#sk-container-id-6 div.sk-toggleable__content pre {margin: 0.2em;color: black;border-radius: 0.25em;background-color: #f0f8ff;}#sk-container-id-6 input.sk-toggleable__control:checked~div.sk-toggleable__content {max-height: 200px;max-width: 100%;overflow: auto;}#sk-container-id-6 input.sk-toggleable__control:checked~label.sk-toggleable__label-arrow:before {content: \"▾\";}#sk-container-id-6 div.sk-estimator input.sk-toggleable__control:checked~label.sk-toggleable__label {background-color: #d4ebff;}#sk-container-id-6 div.sk-label input.sk-toggleable__control:checked~label.sk-toggleable__label {background-color: #d4ebff;}#sk-container-id-6 input.sk-hidden--visually {border: 0;clip: rect(1px 1px 1px 1px);clip: rect(1px, 1px, 1px, 1px);height: 1px;margin: -1px;overflow: hidden;padding: 0;position: absolute;width: 1px;}#sk-container-id-6 div.sk-estimator {font-family: monospace;background-color: #f0f8ff;border: 1px dotted black;border-radius: 0.25em;box-sizing: border-box;margin-bottom: 0.5em;}#sk-container-id-6 div.sk-estimator:hover {background-color: #d4ebff;}#sk-container-id-6 div.sk-parallel-item::after {content: \"\";width: 100%;border-bottom: 1px solid gray;flex-grow: 1;}#sk-container-id-6 div.sk-label:hover label.sk-toggleable__label {background-color: #d4ebff;}#sk-container-id-6 div.sk-serial::before {content: \"\";position: absolute;border-left: 1px solid gray;box-sizing: border-box;top: 0;bottom: 0;left: 50%;z-index: 0;}#sk-container-id-6 div.sk-serial {display: flex;flex-direction: column;align-items: center;background-color: white;padding-right: 0.2em;padding-left: 0.2em;position: relative;}#sk-container-id-6 div.sk-item {position: relative;z-index: 1;}#sk-container-id-6 div.sk-parallel {display: flex;align-items: stretch;justify-content: center;background-color: white;position: relative;}#sk-container-id-6 div.sk-item::before, #sk-container-id-6 div.sk-parallel-item::before {content: \"\";position: absolute;border-left: 1px solid gray;box-sizing: border-box;top: 0;bottom: 0;left: 50%;z-index: -1;}#sk-container-id-6 div.sk-parallel-item {display: flex;flex-direction: column;z-index: 1;position: relative;background-color: white;}#sk-container-id-6 div.sk-parallel-item:first-child::after {align-self: flex-end;width: 50%;}#sk-container-id-6 div.sk-parallel-item:last-child::after {align-self: flex-start;width: 50%;}#sk-container-id-6 div.sk-parallel-item:only-child::after {width: 0;}#sk-container-id-6 div.sk-dashed-wrapped {border: 1px dashed gray;margin: 0 0.4em 0.5em 0.4em;box-sizing: border-box;padding-bottom: 0.4em;background-color: white;}#sk-container-id-6 div.sk-label label {font-family: monospace;font-weight: bold;display: inline-block;line-height: 1.2em;}#sk-container-id-6 div.sk-label-container {text-align: center;}#sk-container-id-6 div.sk-container {/* jupyter's `normalize.less` sets `[hidden] { display: none; }` but bootstrap.min.css set `[hidden] { display: none !important; }` so we also need the `!important` here to be able to override the default hidden behavior on the sphinx rendered scikit-learn.org. See: https://github.com/scikit-learn/scikit-learn/issues/21755 */display: inline-block !important;position: relative;}#sk-container-id-6 div.sk-text-repr-fallback {display: none;}</style><div id=\"sk-container-id-6\" class=\"sk-top-container\"><div class=\"sk-text-repr-fallback\"><pre>RandomForestClassifier(max_depth=12, max_features=&#x27;log2&#x27;, min_samples_split=3,\n",
       "                       n_estimators=150, random_state=10)</pre><b>In a Jupyter environment, please rerun this cell to show the HTML representation or trust the notebook. <br />On GitHub, the HTML representation is unable to render, please try loading this page with nbviewer.org.</b></div><div class=\"sk-container\" hidden><div class=\"sk-item\"><div class=\"sk-estimator sk-toggleable\"><input class=\"sk-toggleable__control sk-hidden--visually\" id=\"sk-estimator-id-6\" type=\"checkbox\" checked><label for=\"sk-estimator-id-6\" class=\"sk-toggleable__label sk-toggleable__label-arrow\">RandomForestClassifier</label><div class=\"sk-toggleable__content\"><pre>RandomForestClassifier(max_depth=12, max_features=&#x27;log2&#x27;, min_samples_split=3,\n",
       "                       n_estimators=150, random_state=10)</pre></div></div></div></div></div>"
      ],
      "text/plain": [
       "RandomForestClassifier(max_depth=12, max_features='log2', min_samples_split=3,\n",
       "                       n_estimators=150, random_state=10)"
      ]
     },
     "execution_count": 173,
     "metadata": {},
     "output_type": "execute_result"
    }
   ],
   "source": [
    "rdf = RandomForestClassifier(random_state=10,criterion='gini',max_depth=12,min_samples_split=3\\\n",
    "                            ,max_features='log2',n_estimators=150)\n",
    "rdf.fit(xtrain_sm,ytrain_sm)"
   ]
  },
  {
   "cell_type": "code",
   "execution_count": 174,
   "id": "b51f933e",
   "metadata": {},
   "outputs": [
    {
     "name": "stdout",
     "output_type": "stream",
     "text": [
      "The metrics for train set are\n",
      "Accuracy is 0.91\n",
      "Recall is 0.92\n",
      "Precision is 0.90\n",
      "F1 score is 0.91\n"
     ]
    }
   ],
   "source": [
    "rdf_train_pred = rdf.predict(xtrain_sm)\n",
    "print('The metrics for train set are')\n",
    "evaluate(ytrain_sm,rdf_train_pred)"
   ]
  },
  {
   "cell_type": "code",
   "execution_count": 175,
   "id": "e24c798a",
   "metadata": {},
   "outputs": [
    {
     "name": "stdout",
     "output_type": "stream",
     "text": [
      "The metrics for test set are\n",
      "Accuracy is 0.87\n",
      "Recall is 0.77\n",
      "Precision is 0.25\n",
      "F1 score is 0.37\n"
     ]
    }
   ],
   "source": [
    "rdf_test_pred = rdf.predict(xtest)\n",
    "print('The metrics for test set are')\n",
    "evaluate(ytest,rdf_test_pred)"
   ]
  },
  {
   "cell_type": "code",
   "execution_count": 176,
   "id": "86390a75",
   "metadata": {},
   "outputs": [],
   "source": [
    "yprob_rf = rdf.predict_proba(xtest)[:,1]\n",
    "recall_precision_trade_off_rf = trade_off(ytest,yprob_rf)"
   ]
  },
  {
   "cell_type": "code",
   "execution_count": 177,
   "id": "728c3433",
   "metadata": {},
   "outputs": [
    {
     "data": {
      "image/png": "[encoded data removed]",
      "text/plain": [
       "<Figure size 640x480 with 1 Axes>"
      ]
     },
     "metadata": {},
     "output_type": "display_data"
    }
   ],
   "source": [
    "x = recall_precision_trade_off_rf.keys()\n",
    "y = recall_precision_trade_off_rf.values()\n",
    "plt.plot(x,y,linestyle='dotted')\n",
    "plt.xlabel('Threshold')\n",
    "plt.ylabel('Scores')\n",
    "plt.title('Recall V/S Precision')\n",
    "plt.show()"
   ]
  },
  {
   "cell_type": "code",
   "execution_count": 178,
   "id": "e74bae18",
   "metadata": {},
   "outputs": [
    {
     "name": "stdout",
     "output_type": "stream",
     "text": [
      "Mean scores of ROC AUC for Random Forest are 0.892 \n"
     ]
    }
   ],
   "source": [
    "cv = RepeatedStratifiedKFold(n_splits = 10, n_repeats = 3, random_state=2)\n",
    "scores = cross_val_score(rdf,xtest,ytest,cv=cv,n_jobs=-1,scoring='roc_auc')\n",
    "print(\"Mean scores of ROC AUC for Random Forest are %.3f \"%scores.mean())"
   ]
  },
  {
   "cell_type": "code",
   "execution_count": 179,
   "id": "4cdf6bf5",
   "metadata": {},
   "outputs": [],
   "source": [
    "#dclf = DecisionTreeClassifier()\n",
    "#param ={'max_depth':[5,8,11,14],\n",
    "#    'min_samples_split':[2,3],'max_features':['log2','sqrt']\n",
    "#}\n",
    "#grid_dt = GridSearchCV(estimator=dclf,param_grid=param,scoring='recall')\n",
    "#grid_dt.fit(xtrain_sm,ytrain_sm)"
   ]
  },
  {
   "cell_type": "code",
   "execution_count": 180,
   "id": "e44961ad",
   "metadata": {},
   "outputs": [],
   "source": [
    "#grid_dt.best_params_"
   ]
  },
  {
   "cell_type": "code",
   "execution_count": 181,
   "id": "37c5c281",
   "metadata": {},
   "outputs": [
    {
     "data": {
      "text/html": [
       "<style>#sk-container-id-7 {color: black;}#sk-container-id-7 pre{padding: 0;}#sk-container-id-7 div.sk-toggleable {background-color: white;}#sk-container-id-7 label.sk-toggleable__label {cursor: pointer;display: block;width: 100%;margin-bottom: 0;padding: 0.3em;box-sizing: border-box;text-align: center;}#sk-container-id-7 label.sk-toggleable__label-arrow:before {content: \"▸\";float: left;margin-right: 0.25em;color: #696969;}#sk-container-id-7 label.sk-toggleable__label-arrow:hover:before {color: black;}#sk-container-id-7 div.sk-estimator:hover label.sk-toggleable__label-arrow:before {color: black;}#sk-container-id-7 div.sk-toggleable__content {max-height: 0;max-width: 0;overflow: hidden;text-align: left;background-color: #f0f8ff;}#sk-container-id-7 div.sk-toggleable__content pre {margin: 0.2em;color: black;border-radius: 0.25em;background-color: #f0f8ff;}#sk-container-id-7 input.sk-toggleable__control:checked~div.sk-toggleable__content {max-height: 200px;max-width: 100%;overflow: auto;}#sk-container-id-7 input.sk-toggleable__control:checked~label.sk-toggleable__label-arrow:before {content: \"▾\";}#sk-container-id-7 div.sk-estimator input.sk-toggleable__control:checked~label.sk-toggleable__label {background-color: #d4ebff;}#sk-container-id-7 div.sk-label input.sk-toggleable__control:checked~label.sk-toggleable__label {background-color: #d4ebff;}#sk-container-id-7 input.sk-hidden--visually {border: 0;clip: rect(1px 1px 1px 1px);clip: rect(1px, 1px, 1px, 1px);height: 1px;margin: -1px;overflow: hidden;padding: 0;position: absolute;width: 1px;}#sk-container-id-7 div.sk-estimator {font-family: monospace;background-color: #f0f8ff;border: 1px dotted black;border-radius: 0.25em;box-sizing: border-box;margin-bottom: 0.5em;}#sk-container-id-7 div.sk-estimator:hover {background-color: #d4ebff;}#sk-container-id-7 div.sk-parallel-item::after {content: \"\";width: 100%;border-bottom: 1px solid gray;flex-grow: 1;}#sk-container-id-7 div.sk-label:hover label.sk-toggleable__label {background-color: #d4ebff;}#sk-container-id-7 div.sk-serial::before {content: \"\";position: absolute;border-left: 1px solid gray;box-sizing: border-box;top: 0;bottom: 0;left: 50%;z-index: 0;}#sk-container-id-7 div.sk-serial {display: flex;flex-direction: column;align-items: center;background-color: white;padding-right: 0.2em;padding-left: 0.2em;position: relative;}#sk-container-id-7 div.sk-item {position: relative;z-index: 1;}#sk-container-id-7 div.sk-parallel {display: flex;align-items: stretch;justify-content: center;background-color: white;position: relative;}#sk-container-id-7 div.sk-item::before, #sk-container-id-7 div.sk-parallel-item::before {content: \"\";position: absolute;border-left: 1px solid gray;box-sizing: border-box;top: 0;bottom: 0;left: 50%;z-index: -1;}#sk-container-id-7 div.sk-parallel-item {display: flex;flex-direction: column;z-index: 1;position: relative;background-color: white;}#sk-container-id-7 div.sk-parallel-item:first-child::after {align-self: flex-end;width: 50%;}#sk-container-id-7 div.sk-parallel-item:last-child::after {align-self: flex-start;width: 50%;}#sk-container-id-7 div.sk-parallel-item:only-child::after {width: 0;}#sk-container-id-7 div.sk-dashed-wrapped {border: 1px dashed gray;margin: 0 0.4em 0.5em 0.4em;box-sizing: border-box;padding-bottom: 0.4em;background-color: white;}#sk-container-id-7 div.sk-label label {font-family: monospace;font-weight: bold;display: inline-block;line-height: 1.2em;}#sk-container-id-7 div.sk-label-container {text-align: center;}#sk-container-id-7 div.sk-container {/* jupyter's `normalize.less` sets `[hidden] { display: none; }` but bootstrap.min.css set `[hidden] { display: none !important; }` so we also need the `!important` here to be able to override the default hidden behavior on the sphinx rendered scikit-learn.org. See: https://github.com/scikit-learn/scikit-learn/issues/21755 */display: inline-block !important;position: relative;}#sk-container-id-7 div.sk-text-repr-fallback {display: none;}</style><div id=\"sk-container-id-7\" class=\"sk-top-container\"><div class=\"sk-text-repr-fallback\"><pre>DecisionTreeClassifier(max_depth=14, max_features=&#x27;sqrt&#x27;, random_state=11)</pre><b>In a Jupyter environment, please rerun this cell to show the HTML representation or trust the notebook. <br />On GitHub, the HTML representation is unable to render, please try loading this page with nbviewer.org.</b></div><div class=\"sk-container\" hidden><div class=\"sk-item\"><div class=\"sk-estimator sk-toggleable\"><input class=\"sk-toggleable__control sk-hidden--visually\" id=\"sk-estimator-id-7\" type=\"checkbox\" checked><label for=\"sk-estimator-id-7\" class=\"sk-toggleable__label sk-toggleable__label-arrow\">DecisionTreeClassifier</label><div class=\"sk-toggleable__content\"><pre>DecisionTreeClassifier(max_depth=14, max_features=&#x27;sqrt&#x27;, random_state=11)</pre></div></div></div></div></div>"
      ],
      "text/plain": [
       "DecisionTreeClassifier(max_depth=14, max_features='sqrt', random_state=11)"
      ]
     },
     "execution_count": 181,
     "metadata": {},
     "output_type": "execute_result"
    }
   ],
   "source": [
    "dtclf = DecisionTreeClassifier(max_depth=14,max_features='sqrt',min_samples_split=2,random_state=11)\n",
    "dtclf.fit(xtrain_sm,ytrain_sm)"
   ]
  },
  {
   "cell_type": "code",
   "execution_count": 182,
   "id": "1a07d3be",
   "metadata": {},
   "outputs": [
    {
     "name": "stdout",
     "output_type": "stream",
     "text": [
      "The metrics for train set are\n",
      "Accuracy is 0.90\n",
      "Recall is 0.92\n",
      "Precision is 0.31\n",
      "F1 score is 0.46\n"
     ]
    }
   ],
   "source": [
    "train_pred_dt = dtclf.predict(xtrain)\n",
    "print('The metrics for train set are')\n",
    "evaluate(ytrain,train_pred_dt)"
   ]
  },
  {
   "cell_type": "code",
   "execution_count": 183,
   "id": "61e3a5f6",
   "metadata": {},
   "outputs": [
    {
     "name": "stdout",
     "output_type": "stream",
     "text": [
      "The metrics for test set are\n",
      "Accuracy is 0.86\n",
      "Recall is 0.76\n",
      "Precision is 0.23\n",
      "F1 score is 0.35\n"
     ]
    }
   ],
   "source": [
    "test_pred_dt = dtclf.predict(xtest)\n",
    "print('The metrics for test set are')\n",
    "evaluate(ytest,test_pred_dt)"
   ]
  },
  {
   "cell_type": "code",
   "execution_count": 185,
   "id": "d2f019eb",
   "metadata": {},
   "outputs": [],
   "source": [
    "from imblearn.ensemble import BalancedRandomForestClassifier"
   ]
  },
  {
   "cell_type": "code",
   "execution_count": 186,
   "id": "e60d611e",
   "metadata": {},
   "outputs": [
    {
     "name": "stderr",
     "output_type": "stream",
     "text": [
      "D:\\Users\\maven\\anaconda3\\Lib\\site-packages\\imblearn\\ensemble\\_forest.py:546: FutureWarning: The default of `sampling_strategy` will change from `'auto'` to `'all'` in version 0.13. This change will follow the implementation proposed in the original paper. Set to `'all'` to silence this warning and adopt the future behaviour.\n",
      "  warn(\n",
      "D:\\Users\\maven\\anaconda3\\Lib\\site-packages\\imblearn\\ensemble\\_forest.py:558: FutureWarning: The default of `replacement` will change from `False` to `True` in version 0.13. This change will follow the implementation proposed in the original paper. Set to `True` to silence this warning and adopt the future behaviour.\n",
      "  warn(\n"
     ]
    },
    {
     "data": {
      "text/html": [
       "<style>#sk-container-id-8 {color: black;}#sk-container-id-8 pre{padding: 0;}#sk-container-id-8 div.sk-toggleable {background-color: white;}#sk-container-id-8 label.sk-toggleable__label {cursor: pointer;display: block;width: 100%;margin-bottom: 0;padding: 0.3em;box-sizing: border-box;text-align: center;}#sk-container-id-8 label.sk-toggleable__label-arrow:before {content: \"▸\";float: left;margin-right: 0.25em;color: #696969;}#sk-container-id-8 label.sk-toggleable__label-arrow:hover:before {color: black;}#sk-container-id-8 div.sk-estimator:hover label.sk-toggleable__label-arrow:before {color: black;}#sk-container-id-8 div.sk-toggleable__content {max-height: 0;max-width: 0;overflow: hidden;text-align: left;background-color: #f0f8ff;}#sk-container-id-8 div.sk-toggleable__content pre {margin: 0.2em;color: black;border-radius: 0.25em;background-color: #f0f8ff;}#sk-container-id-8 input.sk-toggleable__control:checked~div.sk-toggleable__content {max-height: 200px;max-width: 100%;overflow: auto;}#sk-container-id-8 input.sk-toggleable__control:checked~label.sk-toggleable__label-arrow:before {content: \"▾\";}#sk-container-id-8 div.sk-estimator input.sk-toggleable__control:checked~label.sk-toggleable__label {background-color: #d4ebff;}#sk-container-id-8 div.sk-label input.sk-toggleable__control:checked~label.sk-toggleable__label {background-color: #d4ebff;}#sk-container-id-8 input.sk-hidden--visually {border: 0;clip: rect(1px 1px 1px 1px);clip: rect(1px, 1px, 1px, 1px);height: 1px;margin: -1px;overflow: hidden;padding: 0;position: absolute;width: 1px;}#sk-container-id-8 div.sk-estimator {font-family: monospace;background-color: #f0f8ff;border: 1px dotted black;border-radius: 0.25em;box-sizing: border-box;margin-bottom: 0.5em;}#sk-container-id-8 div.sk-estimator:hover {background-color: #d4ebff;}#sk-container-id-8 div.sk-parallel-item::after {content: \"\";width: 100%;border-bottom: 1px solid gray;flex-grow: 1;}#sk-container-id-8 div.sk-label:hover label.sk-toggleable__label {background-color: #d4ebff;}#sk-container-id-8 div.sk-serial::before {content: \"\";position: absolute;border-left: 1px solid gray;box-sizing: border-box;top: 0;bottom: 0;left: 50%;z-index: 0;}#sk-container-id-8 div.sk-serial {display: flex;flex-direction: column;align-items: center;background-color: white;padding-right: 0.2em;padding-left: 0.2em;position: relative;}#sk-container-id-8 div.sk-item {position: relative;z-index: 1;}#sk-container-id-8 div.sk-parallel {display: flex;align-items: stretch;justify-content: center;background-color: white;position: relative;}#sk-container-id-8 div.sk-item::before, #sk-container-id-8 div.sk-parallel-item::before {content: \"\";position: absolute;border-left: 1px solid gray;box-sizing: border-box;top: 0;bottom: 0;left: 50%;z-index: -1;}#sk-container-id-8 div.sk-parallel-item {display: flex;flex-direction: column;z-index: 1;position: relative;background-color: white;}#sk-container-id-8 div.sk-parallel-item:first-child::after {align-self: flex-end;width: 50%;}#sk-container-id-8 div.sk-parallel-item:last-child::after {align-self: flex-start;width: 50%;}#sk-container-id-8 div.sk-parallel-item:only-child::after {width: 0;}#sk-container-id-8 div.sk-dashed-wrapped {border: 1px dashed gray;margin: 0 0.4em 0.5em 0.4em;box-sizing: border-box;padding-bottom: 0.4em;background-color: white;}#sk-container-id-8 div.sk-label label {font-family: monospace;font-weight: bold;display: inline-block;line-height: 1.2em;}#sk-container-id-8 div.sk-label-container {text-align: center;}#sk-container-id-8 div.sk-container {/* jupyter's `normalize.less` sets `[hidden] { display: none; }` but bootstrap.min.css set `[hidden] { display: none !important; }` so we also need the `!important` here to be able to override the default hidden behavior on the sphinx rendered scikit-learn.org. See: https://github.com/scikit-learn/scikit-learn/issues/21755 */display: inline-block !important;position: relative;}#sk-container-id-8 div.sk-text-repr-fallback {display: none;}</style><div id=\"sk-container-id-8\" class=\"sk-top-container\"><div class=\"sk-text-repr-fallback\"><pre>BalancedRandomForestClassifier(max_depth=12, max_features=&#x27;log2&#x27;,\n",
       "                               min_samples_split=3, n_estimators=150,\n",
       "                               random_state=13)</pre><b>In a Jupyter environment, please rerun this cell to show the HTML representation or trust the notebook. <br />On GitHub, the HTML representation is unable to render, please try loading this page with nbviewer.org.</b></div><div class=\"sk-container\" hidden><div class=\"sk-item\"><div class=\"sk-estimator sk-toggleable\"><input class=\"sk-toggleable__control sk-hidden--visually\" id=\"sk-estimator-id-8\" type=\"checkbox\" checked><label for=\"sk-estimator-id-8\" class=\"sk-toggleable__label sk-toggleable__label-arrow\">BalancedRandomForestClassifier</label><div class=\"sk-toggleable__content\"><pre>BalancedRandomForestClassifier(max_depth=12, max_features=&#x27;log2&#x27;,\n",
       "                               min_samples_split=3, n_estimators=150,\n",
       "                               random_state=13)</pre></div></div></div></div></div>"
      ],
      "text/plain": [
       "BalancedRandomForestClassifier(max_depth=12, max_features='log2',\n",
       "                               min_samples_split=3, n_estimators=150,\n",
       "                               random_state=13)"
      ]
     },
     "execution_count": 186,
     "metadata": {},
     "output_type": "execute_result"
    }
   ],
   "source": [
    "model = BalancedRandomForestClassifier(criterion='gini',max_depth=12,min_samples_split=3\\\n",
    "                            ,max_features='log2',n_estimators=150,random_state=13)\n",
    "model.fit(xtrain,ytrain)"
   ]
  },
  {
   "cell_type": "code",
   "execution_count": 187,
   "id": "ad95d086",
   "metadata": {},
   "outputs": [
    {
     "name": "stdout",
     "output_type": "stream",
     "text": [
      "The metrics for training set are\n",
      "Accuracy is 0.82\n",
      "Recall is 0.94\n",
      "Precision is 0.21\n",
      "F1 score is 0.34\n"
     ]
    }
   ],
   "source": [
    "print('The metrics for training set are')\n",
    "evaluate(ytrain,model.predict(xtrain))"
   ]
  },
  {
   "cell_type": "code",
   "execution_count": 188,
   "id": "753dfeec",
   "metadata": {},
   "outputs": [
    {
     "name": "stdout",
     "output_type": "stream",
     "text": [
      "The metrics for test set are\n",
      "Accuracy is 0.81\n",
      "Recall is 0.85\n",
      "Precision is 0.19\n",
      "F1 score is 0.31\n"
     ]
    }
   ],
   "source": [
    "print('The metrics for test set are')\n",
    "evaluate(ytest,model.predict(xtest))"
   ]
  },
  {
   "cell_type": "code",
   "execution_count": 189,
   "id": "09d39b1d",
   "metadata": {},
   "outputs": [],
   "source": [
    "from sklearn.model_selection import RepeatedStratifiedKFold,cross_val_score\n",
    "from sklearn.metrics import roc_auc_score"
   ]
  },
  {
   "cell_type": "code",
   "execution_count": 190,
   "id": "cf9be85a",
   "metadata": {},
   "outputs": [
    {
     "name": "stdout",
     "output_type": "stream",
     "text": [
      "Mean scores of ROC_AUC: 0.884\n"
     ]
    }
   ],
   "source": [
    "cv = RepeatedStratifiedKFold(n_splits=10, n_repeats=3, random_state=1)\n",
    "scores = cross_val_score(model,xtest,ytest,scoring='roc_auc',cv=cv,n_jobs=-1)\n",
    "print('Mean scores of ROC_AUC: %.3f'% scores.mean())"
   ]
  },
  {
   "cell_type": "code",
   "execution_count": 191,
   "id": "09a59a3f",
   "metadata": {},
   "outputs": [
    {
     "name": "stdout",
     "output_type": "stream",
     "text": [
      "The confusion matrix for Balanced Random Forest on test set\n",
      "[[2688  642]\n",
      " [  26  151]]\n",
      "\n",
      "\n",
      "The confusion matrix for Balanced Random Forest on train set\n",
      "[[10936  2421]\n",
      " [   37   633]]\n"
     ]
    }
   ],
   "source": [
    "print('The confusion matrix for Balanced Random Forest on test set')\n",
    "print(confusion_matrix(y_true= ytest,y_pred=model.predict(xtest)))\n",
    "\n",
    "print(\"\\n\")\n",
    "print(\"The confusion matrix for Balanced Random Forest on train set\")\n",
    "print(confusion_matrix(ytrain,model.predict(xtrain)))"
   ]
  },
  {
   "cell_type": "code",
   "execution_count": 192,
   "id": "23637d5c",
   "metadata": {},
   "outputs": [],
   "source": [
    "from sklearn.ensemble import AdaBoostClassifier"
   ]
  },
  {
   "cell_type": "code",
   "execution_count": 193,
   "id": "6c93866a",
   "metadata": {},
   "outputs": [
    {
     "name": "stdout",
     "output_type": "stream",
     "text": [
      "Mean scores of ROC AUC 0.833\n"
     ]
    }
   ],
   "source": [
    "#Adaboost Classifier \n",
    "model_ada = AdaBoostClassifier(random_state=14,n_estimators=100,learning_rate=0.15)\n",
    "#Model fitting on augmented data.\n",
    "model_ada.fit(xtrain_sm,ytrain_sm)\n",
    "#Testing the model on test data set using Repeated Stratified sample.\n",
    "cv = RepeatedStratifiedKFold(n_splits=10,n_repeats=3,random_state=5)\n",
    "scores = cross_val_score(model_ada,xtest,ytest,cv=cv,scoring='roc_auc',n_jobs=-1)\n",
    "print(\"Mean scores of ROC AUC %.3f\"%scores.mean())"
   ]
  },
  {
   "cell_type": "code",
   "execution_count": 194,
   "id": "84195021",
   "metadata": {},
   "outputs": [],
   "source": [
    "#! pip install xgboost"
   ]
  },
  {
   "cell_type": "code",
   "execution_count": 195,
   "id": "25e99793",
   "metadata": {},
   "outputs": [],
   "source": [
    "from xgboost import XGBClassifier"
   ]
  },
  {
   "cell_type": "code",
   "execution_count": 196,
   "id": "3ddaf9ea",
   "metadata": {},
   "outputs": [
    {
     "name": "stdout",
     "output_type": "stream",
     "text": [
      "Mean scores of ROC AUC 0.881\n"
     ]
    }
   ],
   "source": [
    "xgb = XGBClassifier(random_state=22)\n",
    "xgb.fit(xtrain_sm,ytrain_sm)\n",
    "# Testing model using Repeated Stratified fold.\n",
    "cv = RepeatedStratifiedKFold(n_splits=10,n_repeats=3,random_state=23)\n",
    "# Defining the cross validation score.\n",
    "scores = cross_val_score(xgb,xtest,ytest,cv=cv,scoring='roc_auc')\n",
    "print(\"Mean scores of ROC AUC %.3f\"%scores.mean())"
   ]
  },
  {
   "cell_type": "markdown",
   "id": "8614e66d",
   "metadata": {},
   "source": [
    "##### - The models after synthetic data augmentation are giving better ROC AUC scores.\n",
    "##### - However we want to increase Precision scores to ensure the positives are predicted correctly."
   ]
  },
  {
   "cell_type": "code",
   "execution_count": 197,
   "id": "27a1d2e0",
   "metadata": {},
   "outputs": [
    {
     "data": {
      "text/plain": [
       "(17534, 8)"
      ]
     },
     "execution_count": 197,
     "metadata": {},
     "output_type": "execute_result"
    }
   ],
   "source": [
    "imputed_df.shape"
   ]
  },
  {
   "cell_type": "code",
   "execution_count": 198,
   "id": "0ca6d2c6",
   "metadata": {},
   "outputs": [
    {
     "data": {
      "text/plain": [
       "Index(['job_id', 'location', 'has_company_logo', 'has_questions',\n",
       "       'employment_type', 'industry', 'fraudulent', 'Vec_output'],\n",
       "      dtype='object')"
      ]
     },
     "execution_count": 198,
     "metadata": {},
     "output_type": "execute_result"
    }
   ],
   "source": [
    "imputed_df.columns"
   ]
  },
  {
   "cell_type": "code",
   "execution_count": 199,
   "id": "49a86ef6",
   "metadata": {},
   "outputs": [],
   "source": [
    "imputed_df.fillna('0.103',inplace=True)\n",
    "X = imputed_df.drop(['fraudulent','job_id'],axis=1)\n",
    "Y = imputed_df['fraudulent']"
   ]
  },
  {
   "cell_type": "code",
   "execution_count": 200,
   "id": "95787f5f",
   "metadata": {},
   "outputs": [],
   "source": [
    "#Using Isolation Forest for anamoly detection.\n",
    "from sklearn.ensemble import IsolationForest\n",
    "# Defining the models and fitting X and Y.\n",
    "isolation_forest = IsolationForest(n_estimators=100,max_samples='auto',contamination='auto',random_state=55)\n",
    "isolation_forest.fit(X,Y) # Fitting on all features.\n",
    "# Predicting anamolies.\n",
    "imputed_df['anamoly'] = isolation_forest.predict(X)"
   ]
  },
  {
   "cell_type": "code",
   "execution_count": 201,
   "id": "8cf959a9",
   "metadata": {},
   "outputs": [],
   "source": [
    "imputed_df['scores'] = isolation_forest.decision_function(X)"
   ]
  },
  {
   "cell_type": "code",
   "execution_count": 202,
   "id": "2aeb3dd0",
   "metadata": {},
   "outputs": [
    {
     "data": {
      "text/plain": [
       " 1    12456\n",
       "-1     5078\n",
       "Name: anamoly, dtype: int64"
      ]
     },
     "execution_count": 202,
     "metadata": {},
     "output_type": "execute_result"
    }
   ],
   "source": [
    "imputed_df['anamoly'].value_counts()"
   ]
  },
  {
   "cell_type": "code",
   "execution_count": 203,
   "id": "67fd08d2",
   "metadata": {},
   "outputs": [],
   "source": [
    "imputed_df['anamoly'].replace([1,-1],[0,1],inplace=True)"
   ]
  },
  {
   "cell_type": "code",
   "execution_count": 204,
   "id": "bc4607f1",
   "metadata": {},
   "outputs": [
    {
     "data": {
      "text/plain": [
       "0    12456\n",
       "1     5078\n",
       "Name: anamoly, dtype: int64"
      ]
     },
     "execution_count": 204,
     "metadata": {},
     "output_type": "execute_result"
    }
   ],
   "source": [
    "imputed_df['anamoly'].value_counts()"
   ]
  },
  {
   "cell_type": "code",
   "execution_count": 205,
   "id": "d10bffaf",
   "metadata": {},
   "outputs": [
    {
     "name": "stdout",
     "output_type": "stream",
     "text": [
      "0.559361864239913\n"
     ]
    },
    {
     "data": {
      "image/png": "[encoded data removed]",
      "text/plain": [
       "<Figure size 640x480 with 1 Axes>"
      ]
     },
     "metadata": {},
     "output_type": "display_data"
    }
   ],
   "source": [
    "from sklearn.metrics import roc_curve,auc\n",
    "fpr,tpr,threshold = roc_curve(imputed_df.fraudulent,imputed_df.anamoly)\n",
    "roc_auc = auc(fpr,tpr)\n",
    "print(roc_auc)\n",
    "\n",
    "#Plotting the ROC Curve.\n",
    "plt.figure()\n",
    "plt.plot(fpr,tpr,color='darkorange',lw=2,label='Roc Curve (area = %0.2f)'%roc_auc)\n",
    "plt.plot([0, 1], [0, 1], color='navy', lw=2, linestyle='--')\n",
    "plt.xlabel('False Positive Rate')\n",
    "plt.ylabel('True Positive Rate')\n",
    "plt.title('Reciever Operating Characteristics')\n",
    "plt.show()"
   ]
  },
  {
   "cell_type": "code",
   "execution_count": 208,
   "id": "87964397",
   "metadata": {},
   "outputs": [],
   "source": [
    "from sklearn.neighbors import LocalOutlierFactor"
   ]
  },
  {
   "cell_type": "code",
   "execution_count": 209,
   "id": "d5316acc",
   "metadata": {},
   "outputs": [
    {
     "data": {
      "text/plain": [
       "array([-1,  1,  1, ...,  1,  1,  1])"
      ]
     },
     "execution_count": 209,
     "metadata": {},
     "output_type": "execute_result"
    }
   ],
   "source": [
    "lof = LocalOutlierFactor(n_neighbors=20, algorithm='auto'\\\n",
    "                          ,leaf_size=30, metric='minkowski'\\\n",
    "                            ,p=2,contamination='auto')\n",
    "y_pred = lof.fit_predict(X)\n",
    "y_pred"
   ]
  },
  {
   "cell_type": "code",
   "execution_count": 210,
   "id": "af3e0f91",
   "metadata": {},
   "outputs": [
    {
     "data": {
      "text/plain": [
       "numpy.ndarray"
      ]
     },
     "execution_count": 210,
     "metadata": {},
     "output_type": "execute_result"
    }
   ],
   "source": [
    "type(y_pred)"
   ]
  },
  {
   "cell_type": "code",
   "execution_count": 211,
   "id": "e3fb7feb",
   "metadata": {},
   "outputs": [],
   "source": [
    "y_pred[y_pred == 1] = 0\n",
    "y_pred[y_pred == -1] = 1"
   ]
  },
  {
   "cell_type": "code",
   "execution_count": 212,
   "id": "638c7857",
   "metadata": {},
   "outputs": [
    {
     "name": "stdout",
     "output_type": "stream",
     "text": [
      "Accuracy is 0.73\n",
      "Recall is 0.27\n",
      "Precision is 0.05\n",
      "F1 score is 0.09\n"
     ]
    }
   ],
   "source": [
    "evaluate(Y,y_pred)"
   ]
  },
  {
   "cell_type": "code",
   "execution_count": 213,
   "id": "8c48b949",
   "metadata": {},
   "outputs": [],
   "source": [
    "# Here we can see Anamoly Detection algorithms are performancing as compared SMOTE applied models."
   ]
  },
  {
   "cell_type": "code",
   "execution_count": null,
   "id": "0e004b3c",
   "metadata": {},
   "outputs": [],
   "source": []
  }
 ],
 "metadata": {
  "kernelspec": {
   "display_name": "Python 3 (ipykernel)",
   "language": "python",
   "name": "python3"
  },
  "language_info": {
   "codemirror_mode": {
    "name": "ipython",
    "version": 3
   },
   "file_extension": ".py",
   "mimetype": "text/x-python",
   "name": "python",
   "nbconvert_exporter": "python",
   "pygments_lexer": "ipython3",
   "version": "3.11.4"
  }
 },
 "nbformat": 4,
 "nbformat_minor": 5
}
